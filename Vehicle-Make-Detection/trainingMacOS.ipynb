{
 "cells": [
  {
   "cell_type": "markdown",
   "metadata": {},
   "source": [
    "# **Importing All Required Libraries**\n",
    "\n",
    "**TensorFlow is the main library responsible for creating and training the neural network, matplotlib is used for plotting, and VGG19 is a pre-trained neural network used as the base\n",
    "for the model. Keras API is used for interfacing with the model.**"
   ]
  },
  {
   "cell_type": "code",
   "execution_count": 9,
   "metadata": {
    "id": "XZEm9vsFUB7N"
   },
   "outputs": [],
   "source": [
    "import tensorflow as tf\n",
    "from tensorflow import keras\n",
    "import matplotlib.pyplot as plt\n",
    "import cv2\n",
    "import os\n",
    "import shutil\n",
    "import numpy as np\n",
    "\n",
    "from tensorflow.keras.layers import AveragePooling2D, Dropout, Flatten, Dense, Conv2D, MaxPooling2D, BatchNormalization, Activation\n",
    "from tensorflow.keras.models import Model, Sequential, load_model\n",
    "from tensorflow.keras.callbacks import TensorBoard, ModelCheckpoint, ReduceLROnPlateau\n",
    "from tensorflow.keras.applications import VGG19\n",
    "from tensorflow.keras.losses import categorical_crossentropy\n",
    "from tensorflow.keras.optimizers import Adam, SGD\n",
    "from tensorflow.keras.applications.vgg19 import preprocess_input"
   ]
  },
  {
   "cell_type": "markdown",
   "metadata": {
    "id": "YWKdkJjuVhz8"
   },
   "source": [
    "# **Image Data Generation**\n",
    "\n",
    "**Setting up image data generators for training and testing. These augment images on-the-fly\n",
    "as a form of data preprocessing and augmentation. \"train_generator\" and \"test_generator\" used\n",
    "for feeding the model from their respective directories.\"**\n",
    "\n",
    "Images are resized to 331x331 pixels: VGG19 trained on ImageNet is originally sized to 224x224 pxels, but 331x331 is utilized by some networks such as NASNet, and supports more discernible features of images.\n",
    "\n",
    "Batch size is 64: the datasets are subsetted into sets of 64 due to memory utilization. 64 is a good trade-off between training speed and convergence. Also is a power of 2, which is better for memory alignment.\n",
    "\n",
    "Training dataset hosts 2500> images belonging to 8 different manufacturers.\n",
    "\n",
    "Testing dataset hosts 400 images belonging to those same manufacturers. "
   ]
  },
  {
   "cell_type": "code",
   "execution_count": 10,
   "metadata": {
    "colab": {
     "base_uri": "https://localhost:8080/"
    },
    "id": "gMR9FHDnVkGV",
    "outputId": "eb77a9ea-3faf-453c-f5ff-936d067f8fd0"
   },
   "outputs": [
    {
     "name": "stdout",
     "output_type": "stream",
     "text": [
      "Found 2513 images belonging to 8 classes.\n",
      "Found 400 images belonging to 8 classes.\n"
     ]
    }
   ],
   "source": [
    "IMAGE_SIZE = 331\n",
    "BATCH_SIZE = 64\n",
    "\n",
    "datagen = tf.keras.preprocessing.image.ImageDataGenerator(\n",
    "    rotation_range=20,\n",
    "    width_shift_range=0.2,\n",
    "    height_shift_range=0.2,\n",
    "    shear_range=0.2,\n",
    "    zoom_range=0.2,\n",
    "    horizontal_flip=True,\n",
    "    fill_mode='nearest',\n",
    "    preprocessing_function=preprocess_input\n",
    ")\n",
    "\n",
    "# Training generator for train folder\n",
    "train_generator = datagen.flow_from_directory(\n",
    "    \"/Users/connor/Desktop/W24/583 Deep Learning/Course Project MacOS/Car_Brand_Logos/Train\",\n",
    "    target_size=(IMAGE_SIZE, IMAGE_SIZE),\n",
    "    class_mode=\"categorical\",\n",
    "    color_mode=\"rgb\",\n",
    "    batch_size=BATCH_SIZE)\n",
    "\n",
    "# Testing generator for test folder\n",
    "test_generator = datagen.flow_from_directory(\n",
    "    \"/Users/connor/Desktop/W24/583 Deep Learning/Course Project MacOS/Car_Brand_Logos/Test\",\n",
    "    target_size=(IMAGE_SIZE, IMAGE_SIZE),\n",
    "    class_mode=\"categorical\",\n",
    "    color_mode=\"rgb\",\n",
    "    batch_size=BATCH_SIZE)"
   ]
  },
  {
   "cell_type": "markdown",
   "metadata": {
    "id": "RniSaWqUWDwg"
   },
   "source": [
    "# **Create the  VGG19 Model**\n",
    "--------------------------------------------------------------------------------------------------------\n",
    "\n",
    "**Top layers of the VGG19 model (trained on ImageNet) are removed to support classification for automotive logos.**\n",
    "\n",
    "**Flatten layer** converts the 2D feature maps into a 1D vector.\n",
    "\n",
    "**Dense layers** learn classification from the features of images.\n",
    "\n",
    "**Dropout layers** help with overfitting: when a model is too closely aligned to the training data and is not able to generalize— harming its ability to make accurate predictions with validation data.\n",
    "\n",
    "--------------------------------------------------------------------------------------------------------\n",
    "\"We are creating a CNN model using keras with input shape as (331,331,3) which stands for 331x331 RGB pictures . Refer [link](https://keras.io/api/layers/convolution_layers/convolution2d/)\"\n",
    "\n",
    "\"A dropout layer has been added to prevent overfitting [link](https://keras.io/api/layers/regularization_layers/dropout/)\""
   ]
  },
  {
   "cell_type": "code",
   "execution_count": 11,
   "metadata": {
    "colab": {
     "base_uri": "https://localhost:8080/"
    },
    "id": "Z02zO67dVzfp",
    "outputId": "5f7d1276-8bf8-4930-cff4-a3a4ff826ef4"
   },
   "outputs": [
    {
     "data": {
      "text/html": [
       "<pre style=\"white-space:pre;overflow-x:auto;line-height:normal;font-family:Menlo,'DejaVu Sans Mono',consolas,'Courier New',monospace\"><span style=\"font-weight: bold\">Model: \"sequential_1\"</span>\n",
       "</pre>\n"
      ],
      "text/plain": [
       "\u001b[1mModel: \"sequential_1\"\u001b[0m\n"
      ]
     },
     "metadata": {},
     "output_type": "display_data"
    },
    {
     "data": {
      "text/html": [
       "<pre style=\"white-space:pre;overflow-x:auto;line-height:normal;font-family:Menlo,'DejaVu Sans Mono',consolas,'Courier New',monospace\">┏━━━━━━━━━━━━━━━━━━━━━━━━━━━━━━━━━┳━━━━━━━━━━━━━━━━━━━━━━━━┳━━━━━━━━━━━━━━━┓\n",
       "┃<span style=\"font-weight: bold\"> Layer (type)                    </span>┃<span style=\"font-weight: bold\"> Output Shape           </span>┃<span style=\"font-weight: bold\">       Param # </span>┃\n",
       "┡━━━━━━━━━━━━━━━━━━━━━━━━━━━━━━━━━╇━━━━━━━━━━━━━━━━━━━━━━━━╇━━━━━━━━━━━━━━━┩\n",
       "│ block1_conv1 (<span style=\"color: #0087ff; text-decoration-color: #0087ff\">Conv2D</span>)           │ (<span style=\"color: #00d7ff; text-decoration-color: #00d7ff\">None</span>, <span style=\"color: #00af00; text-decoration-color: #00af00\">331</span>, <span style=\"color: #00af00; text-decoration-color: #00af00\">331</span>, <span style=\"color: #00af00; text-decoration-color: #00af00\">64</span>)   │         <span style=\"color: #00af00; text-decoration-color: #00af00\">1,792</span> │\n",
       "├─────────────────────────────────┼────────────────────────┼───────────────┤\n",
       "│ block1_conv2 (<span style=\"color: #0087ff; text-decoration-color: #0087ff\">Conv2D</span>)           │ (<span style=\"color: #00d7ff; text-decoration-color: #00d7ff\">None</span>, <span style=\"color: #00af00; text-decoration-color: #00af00\">331</span>, <span style=\"color: #00af00; text-decoration-color: #00af00\">331</span>, <span style=\"color: #00af00; text-decoration-color: #00af00\">64</span>)   │        <span style=\"color: #00af00; text-decoration-color: #00af00\">36,928</span> │\n",
       "├─────────────────────────────────┼────────────────────────┼───────────────┤\n",
       "│ block1_pool (<span style=\"color: #0087ff; text-decoration-color: #0087ff\">MaxPooling2D</span>)      │ (<span style=\"color: #00d7ff; text-decoration-color: #00d7ff\">None</span>, <span style=\"color: #00af00; text-decoration-color: #00af00\">165</span>, <span style=\"color: #00af00; text-decoration-color: #00af00\">165</span>, <span style=\"color: #00af00; text-decoration-color: #00af00\">64</span>)   │             <span style=\"color: #00af00; text-decoration-color: #00af00\">0</span> │\n",
       "├─────────────────────────────────┼────────────────────────┼───────────────┤\n",
       "│ block2_conv1 (<span style=\"color: #0087ff; text-decoration-color: #0087ff\">Conv2D</span>)           │ (<span style=\"color: #00d7ff; text-decoration-color: #00d7ff\">None</span>, <span style=\"color: #00af00; text-decoration-color: #00af00\">165</span>, <span style=\"color: #00af00; text-decoration-color: #00af00\">165</span>, <span style=\"color: #00af00; text-decoration-color: #00af00\">128</span>)  │        <span style=\"color: #00af00; text-decoration-color: #00af00\">73,856</span> │\n",
       "├─────────────────────────────────┼────────────────────────┼───────────────┤\n",
       "│ block2_conv2 (<span style=\"color: #0087ff; text-decoration-color: #0087ff\">Conv2D</span>)           │ (<span style=\"color: #00d7ff; text-decoration-color: #00d7ff\">None</span>, <span style=\"color: #00af00; text-decoration-color: #00af00\">165</span>, <span style=\"color: #00af00; text-decoration-color: #00af00\">165</span>, <span style=\"color: #00af00; text-decoration-color: #00af00\">128</span>)  │       <span style=\"color: #00af00; text-decoration-color: #00af00\">147,584</span> │\n",
       "├─────────────────────────────────┼────────────────────────┼───────────────┤\n",
       "│ block2_pool (<span style=\"color: #0087ff; text-decoration-color: #0087ff\">MaxPooling2D</span>)      │ (<span style=\"color: #00d7ff; text-decoration-color: #00d7ff\">None</span>, <span style=\"color: #00af00; text-decoration-color: #00af00\">82</span>, <span style=\"color: #00af00; text-decoration-color: #00af00\">82</span>, <span style=\"color: #00af00; text-decoration-color: #00af00\">128</span>)    │             <span style=\"color: #00af00; text-decoration-color: #00af00\">0</span> │\n",
       "├─────────────────────────────────┼────────────────────────┼───────────────┤\n",
       "│ block3_conv1 (<span style=\"color: #0087ff; text-decoration-color: #0087ff\">Conv2D</span>)           │ (<span style=\"color: #00d7ff; text-decoration-color: #00d7ff\">None</span>, <span style=\"color: #00af00; text-decoration-color: #00af00\">82</span>, <span style=\"color: #00af00; text-decoration-color: #00af00\">82</span>, <span style=\"color: #00af00; text-decoration-color: #00af00\">256</span>)    │       <span style=\"color: #00af00; text-decoration-color: #00af00\">295,168</span> │\n",
       "├─────────────────────────────────┼────────────────────────┼───────────────┤\n",
       "│ block3_conv2 (<span style=\"color: #0087ff; text-decoration-color: #0087ff\">Conv2D</span>)           │ (<span style=\"color: #00d7ff; text-decoration-color: #00d7ff\">None</span>, <span style=\"color: #00af00; text-decoration-color: #00af00\">82</span>, <span style=\"color: #00af00; text-decoration-color: #00af00\">82</span>, <span style=\"color: #00af00; text-decoration-color: #00af00\">256</span>)    │       <span style=\"color: #00af00; text-decoration-color: #00af00\">590,080</span> │\n",
       "├─────────────────────────────────┼────────────────────────┼───────────────┤\n",
       "│ block3_conv3 (<span style=\"color: #0087ff; text-decoration-color: #0087ff\">Conv2D</span>)           │ (<span style=\"color: #00d7ff; text-decoration-color: #00d7ff\">None</span>, <span style=\"color: #00af00; text-decoration-color: #00af00\">82</span>, <span style=\"color: #00af00; text-decoration-color: #00af00\">82</span>, <span style=\"color: #00af00; text-decoration-color: #00af00\">256</span>)    │       <span style=\"color: #00af00; text-decoration-color: #00af00\">590,080</span> │\n",
       "├─────────────────────────────────┼────────────────────────┼───────────────┤\n",
       "│ block3_conv4 (<span style=\"color: #0087ff; text-decoration-color: #0087ff\">Conv2D</span>)           │ (<span style=\"color: #00d7ff; text-decoration-color: #00d7ff\">None</span>, <span style=\"color: #00af00; text-decoration-color: #00af00\">82</span>, <span style=\"color: #00af00; text-decoration-color: #00af00\">82</span>, <span style=\"color: #00af00; text-decoration-color: #00af00\">256</span>)    │       <span style=\"color: #00af00; text-decoration-color: #00af00\">590,080</span> │\n",
       "├─────────────────────────────────┼────────────────────────┼───────────────┤\n",
       "│ block3_pool (<span style=\"color: #0087ff; text-decoration-color: #0087ff\">MaxPooling2D</span>)      │ (<span style=\"color: #00d7ff; text-decoration-color: #00d7ff\">None</span>, <span style=\"color: #00af00; text-decoration-color: #00af00\">41</span>, <span style=\"color: #00af00; text-decoration-color: #00af00\">41</span>, <span style=\"color: #00af00; text-decoration-color: #00af00\">256</span>)    │             <span style=\"color: #00af00; text-decoration-color: #00af00\">0</span> │\n",
       "├─────────────────────────────────┼────────────────────────┼───────────────┤\n",
       "│ block4_conv1 (<span style=\"color: #0087ff; text-decoration-color: #0087ff\">Conv2D</span>)           │ (<span style=\"color: #00d7ff; text-decoration-color: #00d7ff\">None</span>, <span style=\"color: #00af00; text-decoration-color: #00af00\">41</span>, <span style=\"color: #00af00; text-decoration-color: #00af00\">41</span>, <span style=\"color: #00af00; text-decoration-color: #00af00\">512</span>)    │     <span style=\"color: #00af00; text-decoration-color: #00af00\">1,180,160</span> │\n",
       "├─────────────────────────────────┼────────────────────────┼───────────────┤\n",
       "│ block4_conv2 (<span style=\"color: #0087ff; text-decoration-color: #0087ff\">Conv2D</span>)           │ (<span style=\"color: #00d7ff; text-decoration-color: #00d7ff\">None</span>, <span style=\"color: #00af00; text-decoration-color: #00af00\">41</span>, <span style=\"color: #00af00; text-decoration-color: #00af00\">41</span>, <span style=\"color: #00af00; text-decoration-color: #00af00\">512</span>)    │     <span style=\"color: #00af00; text-decoration-color: #00af00\">2,359,808</span> │\n",
       "├─────────────────────────────────┼────────────────────────┼───────────────┤\n",
       "│ block4_conv3 (<span style=\"color: #0087ff; text-decoration-color: #0087ff\">Conv2D</span>)           │ (<span style=\"color: #00d7ff; text-decoration-color: #00d7ff\">None</span>, <span style=\"color: #00af00; text-decoration-color: #00af00\">41</span>, <span style=\"color: #00af00; text-decoration-color: #00af00\">41</span>, <span style=\"color: #00af00; text-decoration-color: #00af00\">512</span>)    │     <span style=\"color: #00af00; text-decoration-color: #00af00\">2,359,808</span> │\n",
       "├─────────────────────────────────┼────────────────────────┼───────────────┤\n",
       "│ block4_conv4 (<span style=\"color: #0087ff; text-decoration-color: #0087ff\">Conv2D</span>)           │ (<span style=\"color: #00d7ff; text-decoration-color: #00d7ff\">None</span>, <span style=\"color: #00af00; text-decoration-color: #00af00\">41</span>, <span style=\"color: #00af00; text-decoration-color: #00af00\">41</span>, <span style=\"color: #00af00; text-decoration-color: #00af00\">512</span>)    │     <span style=\"color: #00af00; text-decoration-color: #00af00\">2,359,808</span> │\n",
       "├─────────────────────────────────┼────────────────────────┼───────────────┤\n",
       "│ block4_pool (<span style=\"color: #0087ff; text-decoration-color: #0087ff\">MaxPooling2D</span>)      │ (<span style=\"color: #00d7ff; text-decoration-color: #00d7ff\">None</span>, <span style=\"color: #00af00; text-decoration-color: #00af00\">20</span>, <span style=\"color: #00af00; text-decoration-color: #00af00\">20</span>, <span style=\"color: #00af00; text-decoration-color: #00af00\">512</span>)    │             <span style=\"color: #00af00; text-decoration-color: #00af00\">0</span> │\n",
       "├─────────────────────────────────┼────────────────────────┼───────────────┤\n",
       "│ block5_conv1 (<span style=\"color: #0087ff; text-decoration-color: #0087ff\">Conv2D</span>)           │ (<span style=\"color: #00d7ff; text-decoration-color: #00d7ff\">None</span>, <span style=\"color: #00af00; text-decoration-color: #00af00\">20</span>, <span style=\"color: #00af00; text-decoration-color: #00af00\">20</span>, <span style=\"color: #00af00; text-decoration-color: #00af00\">512</span>)    │     <span style=\"color: #00af00; text-decoration-color: #00af00\">2,359,808</span> │\n",
       "├─────────────────────────────────┼────────────────────────┼───────────────┤\n",
       "│ block5_conv2 (<span style=\"color: #0087ff; text-decoration-color: #0087ff\">Conv2D</span>)           │ (<span style=\"color: #00d7ff; text-decoration-color: #00d7ff\">None</span>, <span style=\"color: #00af00; text-decoration-color: #00af00\">20</span>, <span style=\"color: #00af00; text-decoration-color: #00af00\">20</span>, <span style=\"color: #00af00; text-decoration-color: #00af00\">512</span>)    │     <span style=\"color: #00af00; text-decoration-color: #00af00\">2,359,808</span> │\n",
       "├─────────────────────────────────┼────────────────────────┼───────────────┤\n",
       "│ block5_conv3 (<span style=\"color: #0087ff; text-decoration-color: #0087ff\">Conv2D</span>)           │ (<span style=\"color: #00d7ff; text-decoration-color: #00d7ff\">None</span>, <span style=\"color: #00af00; text-decoration-color: #00af00\">20</span>, <span style=\"color: #00af00; text-decoration-color: #00af00\">20</span>, <span style=\"color: #00af00; text-decoration-color: #00af00\">512</span>)    │     <span style=\"color: #00af00; text-decoration-color: #00af00\">2,359,808</span> │\n",
       "├─────────────────────────────────┼────────────────────────┼───────────────┤\n",
       "│ block5_conv4 (<span style=\"color: #0087ff; text-decoration-color: #0087ff\">Conv2D</span>)           │ (<span style=\"color: #00d7ff; text-decoration-color: #00d7ff\">None</span>, <span style=\"color: #00af00; text-decoration-color: #00af00\">20</span>, <span style=\"color: #00af00; text-decoration-color: #00af00\">20</span>, <span style=\"color: #00af00; text-decoration-color: #00af00\">512</span>)    │     <span style=\"color: #00af00; text-decoration-color: #00af00\">2,359,808</span> │\n",
       "├─────────────────────────────────┼────────────────────────┼───────────────┤\n",
       "│ block5_pool (<span style=\"color: #0087ff; text-decoration-color: #0087ff\">MaxPooling2D</span>)      │ (<span style=\"color: #00d7ff; text-decoration-color: #00d7ff\">None</span>, <span style=\"color: #00af00; text-decoration-color: #00af00\">10</span>, <span style=\"color: #00af00; text-decoration-color: #00af00\">10</span>, <span style=\"color: #00af00; text-decoration-color: #00af00\">512</span>)    │             <span style=\"color: #00af00; text-decoration-color: #00af00\">0</span> │\n",
       "├─────────────────────────────────┼────────────────────────┼───────────────┤\n",
       "│ flatten_1 (<span style=\"color: #0087ff; text-decoration-color: #0087ff\">Flatten</span>)             │ (<span style=\"color: #00d7ff; text-decoration-color: #00d7ff\">None</span>, <span style=\"color: #00af00; text-decoration-color: #00af00\">51200</span>)          │             <span style=\"color: #00af00; text-decoration-color: #00af00\">0</span> │\n",
       "├─────────────────────────────────┼────────────────────────┼───────────────┤\n",
       "│ dense_3 (<span style=\"color: #0087ff; text-decoration-color: #0087ff\">Dense</span>)                 │ (<span style=\"color: #00d7ff; text-decoration-color: #00d7ff\">None</span>, <span style=\"color: #00af00; text-decoration-color: #00af00\">1024</span>)           │    <span style=\"color: #00af00; text-decoration-color: #00af00\">52,429,824</span> │\n",
       "├─────────────────────────────────┼────────────────────────┼───────────────┤\n",
       "│ activation_3 (<span style=\"color: #0087ff; text-decoration-color: #0087ff\">Activation</span>)       │ (<span style=\"color: #00d7ff; text-decoration-color: #00d7ff\">None</span>, <span style=\"color: #00af00; text-decoration-color: #00af00\">1024</span>)           │             <span style=\"color: #00af00; text-decoration-color: #00af00\">0</span> │\n",
       "├─────────────────────────────────┼────────────────────────┼───────────────┤\n",
       "│ dropout_2 (<span style=\"color: #0087ff; text-decoration-color: #0087ff\">Dropout</span>)             │ (<span style=\"color: #00d7ff; text-decoration-color: #00d7ff\">None</span>, <span style=\"color: #00af00; text-decoration-color: #00af00\">1024</span>)           │             <span style=\"color: #00af00; text-decoration-color: #00af00\">0</span> │\n",
       "├─────────────────────────────────┼────────────────────────┼───────────────┤\n",
       "│ dense_4 (<span style=\"color: #0087ff; text-decoration-color: #0087ff\">Dense</span>)                 │ (<span style=\"color: #00d7ff; text-decoration-color: #00d7ff\">None</span>, <span style=\"color: #00af00; text-decoration-color: #00af00\">512</span>)            │       <span style=\"color: #00af00; text-decoration-color: #00af00\">524,800</span> │\n",
       "├─────────────────────────────────┼────────────────────────┼───────────────┤\n",
       "│ activation_4 (<span style=\"color: #0087ff; text-decoration-color: #0087ff\">Activation</span>)       │ (<span style=\"color: #00d7ff; text-decoration-color: #00d7ff\">None</span>, <span style=\"color: #00af00; text-decoration-color: #00af00\">512</span>)            │             <span style=\"color: #00af00; text-decoration-color: #00af00\">0</span> │\n",
       "├─────────────────────────────────┼────────────────────────┼───────────────┤\n",
       "│ dropout_3 (<span style=\"color: #0087ff; text-decoration-color: #0087ff\">Dropout</span>)             │ (<span style=\"color: #00d7ff; text-decoration-color: #00d7ff\">None</span>, <span style=\"color: #00af00; text-decoration-color: #00af00\">512</span>)            │             <span style=\"color: #00af00; text-decoration-color: #00af00\">0</span> │\n",
       "├─────────────────────────────────┼────────────────────────┼───────────────┤\n",
       "│ dense_5 (<span style=\"color: #0087ff; text-decoration-color: #0087ff\">Dense</span>)                 │ (<span style=\"color: #00d7ff; text-decoration-color: #00d7ff\">None</span>, <span style=\"color: #00af00; text-decoration-color: #00af00\">8</span>)              │         <span style=\"color: #00af00; text-decoration-color: #00af00\">4,104</span> │\n",
       "├─────────────────────────────────┼────────────────────────┼───────────────┤\n",
       "│ activation_5 (<span style=\"color: #0087ff; text-decoration-color: #0087ff\">Activation</span>)       │ (<span style=\"color: #00d7ff; text-decoration-color: #00d7ff\">None</span>, <span style=\"color: #00af00; text-decoration-color: #00af00\">8</span>)              │             <span style=\"color: #00af00; text-decoration-color: #00af00\">0</span> │\n",
       "└─────────────────────────────────┴────────────────────────┴───────────────┘\n",
       "</pre>\n"
      ],
      "text/plain": [
       "┏━━━━━━━━━━━━━━━━━━━━━━━━━━━━━━━━━┳━━━━━━━━━━━━━━━━━━━━━━━━┳━━━━━━━━━━━━━━━┓\n",
       "┃\u001b[1m \u001b[0m\u001b[1mLayer (type)                   \u001b[0m\u001b[1m \u001b[0m┃\u001b[1m \u001b[0m\u001b[1mOutput Shape          \u001b[0m\u001b[1m \u001b[0m┃\u001b[1m \u001b[0m\u001b[1m      Param #\u001b[0m\u001b[1m \u001b[0m┃\n",
       "┡━━━━━━━━━━━━━━━━━━━━━━━━━━━━━━━━━╇━━━━━━━━━━━━━━━━━━━━━━━━╇━━━━━━━━━━━━━━━┩\n",
       "│ block1_conv1 (\u001b[38;5;33mConv2D\u001b[0m)           │ (\u001b[38;5;45mNone\u001b[0m, \u001b[38;5;34m331\u001b[0m, \u001b[38;5;34m331\u001b[0m, \u001b[38;5;34m64\u001b[0m)   │         \u001b[38;5;34m1,792\u001b[0m │\n",
       "├─────────────────────────────────┼────────────────────────┼───────────────┤\n",
       "│ block1_conv2 (\u001b[38;5;33mConv2D\u001b[0m)           │ (\u001b[38;5;45mNone\u001b[0m, \u001b[38;5;34m331\u001b[0m, \u001b[38;5;34m331\u001b[0m, \u001b[38;5;34m64\u001b[0m)   │        \u001b[38;5;34m36,928\u001b[0m │\n",
       "├─────────────────────────────────┼────────────────────────┼───────────────┤\n",
       "│ block1_pool (\u001b[38;5;33mMaxPooling2D\u001b[0m)      │ (\u001b[38;5;45mNone\u001b[0m, \u001b[38;5;34m165\u001b[0m, \u001b[38;5;34m165\u001b[0m, \u001b[38;5;34m64\u001b[0m)   │             \u001b[38;5;34m0\u001b[0m │\n",
       "├─────────────────────────────────┼────────────────────────┼───────────────┤\n",
       "│ block2_conv1 (\u001b[38;5;33mConv2D\u001b[0m)           │ (\u001b[38;5;45mNone\u001b[0m, \u001b[38;5;34m165\u001b[0m, \u001b[38;5;34m165\u001b[0m, \u001b[38;5;34m128\u001b[0m)  │        \u001b[38;5;34m73,856\u001b[0m │\n",
       "├─────────────────────────────────┼────────────────────────┼───────────────┤\n",
       "│ block2_conv2 (\u001b[38;5;33mConv2D\u001b[0m)           │ (\u001b[38;5;45mNone\u001b[0m, \u001b[38;5;34m165\u001b[0m, \u001b[38;5;34m165\u001b[0m, \u001b[38;5;34m128\u001b[0m)  │       \u001b[38;5;34m147,584\u001b[0m │\n",
       "├─────────────────────────────────┼────────────────────────┼───────────────┤\n",
       "│ block2_pool (\u001b[38;5;33mMaxPooling2D\u001b[0m)      │ (\u001b[38;5;45mNone\u001b[0m, \u001b[38;5;34m82\u001b[0m, \u001b[38;5;34m82\u001b[0m, \u001b[38;5;34m128\u001b[0m)    │             \u001b[38;5;34m0\u001b[0m │\n",
       "├─────────────────────────────────┼────────────────────────┼───────────────┤\n",
       "│ block3_conv1 (\u001b[38;5;33mConv2D\u001b[0m)           │ (\u001b[38;5;45mNone\u001b[0m, \u001b[38;5;34m82\u001b[0m, \u001b[38;5;34m82\u001b[0m, \u001b[38;5;34m256\u001b[0m)    │       \u001b[38;5;34m295,168\u001b[0m │\n",
       "├─────────────────────────────────┼────────────────────────┼───────────────┤\n",
       "│ block3_conv2 (\u001b[38;5;33mConv2D\u001b[0m)           │ (\u001b[38;5;45mNone\u001b[0m, \u001b[38;5;34m82\u001b[0m, \u001b[38;5;34m82\u001b[0m, \u001b[38;5;34m256\u001b[0m)    │       \u001b[38;5;34m590,080\u001b[0m │\n",
       "├─────────────────────────────────┼────────────────────────┼───────────────┤\n",
       "│ block3_conv3 (\u001b[38;5;33mConv2D\u001b[0m)           │ (\u001b[38;5;45mNone\u001b[0m, \u001b[38;5;34m82\u001b[0m, \u001b[38;5;34m82\u001b[0m, \u001b[38;5;34m256\u001b[0m)    │       \u001b[38;5;34m590,080\u001b[0m │\n",
       "├─────────────────────────────────┼────────────────────────┼───────────────┤\n",
       "│ block3_conv4 (\u001b[38;5;33mConv2D\u001b[0m)           │ (\u001b[38;5;45mNone\u001b[0m, \u001b[38;5;34m82\u001b[0m, \u001b[38;5;34m82\u001b[0m, \u001b[38;5;34m256\u001b[0m)    │       \u001b[38;5;34m590,080\u001b[0m │\n",
       "├─────────────────────────────────┼────────────────────────┼───────────────┤\n",
       "│ block3_pool (\u001b[38;5;33mMaxPooling2D\u001b[0m)      │ (\u001b[38;5;45mNone\u001b[0m, \u001b[38;5;34m41\u001b[0m, \u001b[38;5;34m41\u001b[0m, \u001b[38;5;34m256\u001b[0m)    │             \u001b[38;5;34m0\u001b[0m │\n",
       "├─────────────────────────────────┼────────────────────────┼───────────────┤\n",
       "│ block4_conv1 (\u001b[38;5;33mConv2D\u001b[0m)           │ (\u001b[38;5;45mNone\u001b[0m, \u001b[38;5;34m41\u001b[0m, \u001b[38;5;34m41\u001b[0m, \u001b[38;5;34m512\u001b[0m)    │     \u001b[38;5;34m1,180,160\u001b[0m │\n",
       "├─────────────────────────────────┼────────────────────────┼───────────────┤\n",
       "│ block4_conv2 (\u001b[38;5;33mConv2D\u001b[0m)           │ (\u001b[38;5;45mNone\u001b[0m, \u001b[38;5;34m41\u001b[0m, \u001b[38;5;34m41\u001b[0m, \u001b[38;5;34m512\u001b[0m)    │     \u001b[38;5;34m2,359,808\u001b[0m │\n",
       "├─────────────────────────────────┼────────────────────────┼───────────────┤\n",
       "│ block4_conv3 (\u001b[38;5;33mConv2D\u001b[0m)           │ (\u001b[38;5;45mNone\u001b[0m, \u001b[38;5;34m41\u001b[0m, \u001b[38;5;34m41\u001b[0m, \u001b[38;5;34m512\u001b[0m)    │     \u001b[38;5;34m2,359,808\u001b[0m │\n",
       "├─────────────────────────────────┼────────────────────────┼───────────────┤\n",
       "│ block4_conv4 (\u001b[38;5;33mConv2D\u001b[0m)           │ (\u001b[38;5;45mNone\u001b[0m, \u001b[38;5;34m41\u001b[0m, \u001b[38;5;34m41\u001b[0m, \u001b[38;5;34m512\u001b[0m)    │     \u001b[38;5;34m2,359,808\u001b[0m │\n",
       "├─────────────────────────────────┼────────────────────────┼───────────────┤\n",
       "│ block4_pool (\u001b[38;5;33mMaxPooling2D\u001b[0m)      │ (\u001b[38;5;45mNone\u001b[0m, \u001b[38;5;34m20\u001b[0m, \u001b[38;5;34m20\u001b[0m, \u001b[38;5;34m512\u001b[0m)    │             \u001b[38;5;34m0\u001b[0m │\n",
       "├─────────────────────────────────┼────────────────────────┼───────────────┤\n",
       "│ block5_conv1 (\u001b[38;5;33mConv2D\u001b[0m)           │ (\u001b[38;5;45mNone\u001b[0m, \u001b[38;5;34m20\u001b[0m, \u001b[38;5;34m20\u001b[0m, \u001b[38;5;34m512\u001b[0m)    │     \u001b[38;5;34m2,359,808\u001b[0m │\n",
       "├─────────────────────────────────┼────────────────────────┼───────────────┤\n",
       "│ block5_conv2 (\u001b[38;5;33mConv2D\u001b[0m)           │ (\u001b[38;5;45mNone\u001b[0m, \u001b[38;5;34m20\u001b[0m, \u001b[38;5;34m20\u001b[0m, \u001b[38;5;34m512\u001b[0m)    │     \u001b[38;5;34m2,359,808\u001b[0m │\n",
       "├─────────────────────────────────┼────────────────────────┼───────────────┤\n",
       "│ block5_conv3 (\u001b[38;5;33mConv2D\u001b[0m)           │ (\u001b[38;5;45mNone\u001b[0m, \u001b[38;5;34m20\u001b[0m, \u001b[38;5;34m20\u001b[0m, \u001b[38;5;34m512\u001b[0m)    │     \u001b[38;5;34m2,359,808\u001b[0m │\n",
       "├─────────────────────────────────┼────────────────────────┼───────────────┤\n",
       "│ block5_conv4 (\u001b[38;5;33mConv2D\u001b[0m)           │ (\u001b[38;5;45mNone\u001b[0m, \u001b[38;5;34m20\u001b[0m, \u001b[38;5;34m20\u001b[0m, \u001b[38;5;34m512\u001b[0m)    │     \u001b[38;5;34m2,359,808\u001b[0m │\n",
       "├─────────────────────────────────┼────────────────────────┼───────────────┤\n",
       "│ block5_pool (\u001b[38;5;33mMaxPooling2D\u001b[0m)      │ (\u001b[38;5;45mNone\u001b[0m, \u001b[38;5;34m10\u001b[0m, \u001b[38;5;34m10\u001b[0m, \u001b[38;5;34m512\u001b[0m)    │             \u001b[38;5;34m0\u001b[0m │\n",
       "├─────────────────────────────────┼────────────────────────┼───────────────┤\n",
       "│ flatten_1 (\u001b[38;5;33mFlatten\u001b[0m)             │ (\u001b[38;5;45mNone\u001b[0m, \u001b[38;5;34m51200\u001b[0m)          │             \u001b[38;5;34m0\u001b[0m │\n",
       "├─────────────────────────────────┼────────────────────────┼───────────────┤\n",
       "│ dense_3 (\u001b[38;5;33mDense\u001b[0m)                 │ (\u001b[38;5;45mNone\u001b[0m, \u001b[38;5;34m1024\u001b[0m)           │    \u001b[38;5;34m52,429,824\u001b[0m │\n",
       "├─────────────────────────────────┼────────────────────────┼───────────────┤\n",
       "│ activation_3 (\u001b[38;5;33mActivation\u001b[0m)       │ (\u001b[38;5;45mNone\u001b[0m, \u001b[38;5;34m1024\u001b[0m)           │             \u001b[38;5;34m0\u001b[0m │\n",
       "├─────────────────────────────────┼────────────────────────┼───────────────┤\n",
       "│ dropout_2 (\u001b[38;5;33mDropout\u001b[0m)             │ (\u001b[38;5;45mNone\u001b[0m, \u001b[38;5;34m1024\u001b[0m)           │             \u001b[38;5;34m0\u001b[0m │\n",
       "├─────────────────────────────────┼────────────────────────┼───────────────┤\n",
       "│ dense_4 (\u001b[38;5;33mDense\u001b[0m)                 │ (\u001b[38;5;45mNone\u001b[0m, \u001b[38;5;34m512\u001b[0m)            │       \u001b[38;5;34m524,800\u001b[0m │\n",
       "├─────────────────────────────────┼────────────────────────┼───────────────┤\n",
       "│ activation_4 (\u001b[38;5;33mActivation\u001b[0m)       │ (\u001b[38;5;45mNone\u001b[0m, \u001b[38;5;34m512\u001b[0m)            │             \u001b[38;5;34m0\u001b[0m │\n",
       "├─────────────────────────────────┼────────────────────────┼───────────────┤\n",
       "│ dropout_3 (\u001b[38;5;33mDropout\u001b[0m)             │ (\u001b[38;5;45mNone\u001b[0m, \u001b[38;5;34m512\u001b[0m)            │             \u001b[38;5;34m0\u001b[0m │\n",
       "├─────────────────────────────────┼────────────────────────┼───────────────┤\n",
       "│ dense_5 (\u001b[38;5;33mDense\u001b[0m)                 │ (\u001b[38;5;45mNone\u001b[0m, \u001b[38;5;34m8\u001b[0m)              │         \u001b[38;5;34m4,104\u001b[0m │\n",
       "├─────────────────────────────────┼────────────────────────┼───────────────┤\n",
       "│ activation_5 (\u001b[38;5;33mActivation\u001b[0m)       │ (\u001b[38;5;45mNone\u001b[0m, \u001b[38;5;34m8\u001b[0m)              │             \u001b[38;5;34m0\u001b[0m │\n",
       "└─────────────────────────────────┴────────────────────────┴───────────────┘\n"
      ]
     },
     "metadata": {},
     "output_type": "display_data"
    },
    {
     "data": {
      "text/html": [
       "<pre style=\"white-space:pre;overflow-x:auto;line-height:normal;font-family:Menlo,'DejaVu Sans Mono',consolas,'Courier New',monospace\"><span style=\"font-weight: bold\"> Total params: </span><span style=\"color: #00af00; text-decoration-color: #00af00\">72,983,112</span> (278.41 MB)\n",
       "</pre>\n"
      ],
      "text/plain": [
       "\u001b[1m Total params: \u001b[0m\u001b[38;5;34m72,983,112\u001b[0m (278.41 MB)\n"
      ]
     },
     "metadata": {},
     "output_type": "display_data"
    },
    {
     "data": {
      "text/html": [
       "<pre style=\"white-space:pre;overflow-x:auto;line-height:normal;font-family:Menlo,'DejaVu Sans Mono',consolas,'Courier New',monospace\"><span style=\"font-weight: bold\"> Trainable params: </span><span style=\"color: #00af00; text-decoration-color: #00af00\">52,958,728</span> (202.02 MB)\n",
       "</pre>\n"
      ],
      "text/plain": [
       "\u001b[1m Trainable params: \u001b[0m\u001b[38;5;34m52,958,728\u001b[0m (202.02 MB)\n"
      ]
     },
     "metadata": {},
     "output_type": "display_data"
    },
    {
     "data": {
      "text/html": [
       "<pre style=\"white-space:pre;overflow-x:auto;line-height:normal;font-family:Menlo,'DejaVu Sans Mono',consolas,'Courier New',monospace\"><span style=\"font-weight: bold\"> Non-trainable params: </span><span style=\"color: #00af00; text-decoration-color: #00af00\">20,024,384</span> (76.39 MB)\n",
       "</pre>\n"
      ],
      "text/plain": [
       "\u001b[1m Non-trainable params: \u001b[0m\u001b[38;5;34m20,024,384\u001b[0m (76.39 MB)\n"
      ]
     },
     "metadata": {},
     "output_type": "display_data"
    }
   ],
   "source": [
    "vgg = VGG19(include_top= False, weights = \"imagenet\", input_shape=( IMAGE_SIZE,IMAGE_SIZE, 3))\n",
    "vgg_layer_list = vgg.layers\n",
    "\n",
    "model = Sequential ()\n",
    "\n",
    "for layer in vgg_layer_list:\n",
    "    model.add(layer)\n",
    "    \n",
    "for layer in model.layers:\n",
    "    layer.trainable = False\n",
    "    \n",
    "model.add(Flatten())\n",
    "model.add(Dense(1024))\n",
    "model.add(Activation('relu'))\n",
    "model.add(Dropout(0.2))\n",
    "model.add(Dense(512))\n",
    "model.add(Activation('relu'))\n",
    "model.add(Dropout(0.2))\n",
    "model.add(Dense(8))\n",
    "model.add(Activation('softmax'))\n",
    "\n",
    "\n",
    "# Compiling the model: An Adam optimizer with a learning rate @ 0.0001\n",
    "# Categorical crossentropy as the loss function because of multi-class classification\n",
    "# (Tracking the accuracy metric)\n",
    "\n",
    "opt = Adam(learning_rate=0.0001, beta_1=0.9, beta_2=0.999)\n",
    "model.compile(optimizer=opt, loss=\"categorical_crossentropy\", metrics=[\"accuracy\"])\n",
    "model.summary()"
   ]
  },
  {
   "cell_type": "markdown",
   "metadata": {
    "id": "pAietfoxW4dn"
   },
   "source": [
    "# **Training the Keras Model**\n",
    "\n",
    "Iterate over eight training sessions. Callback to save the model as a checkpoint in histories, saves if it has the best performance on the validation data, so far."
   ]
  },
  {
   "cell_type": "code",
   "execution_count": 16,
   "metadata": {
    "colab": {
     "base_uri": "https://localhost:8080/"
    },
    "id": "QvfCfQIjW52y",
    "outputId": "ae6035cc-11e8-4706-e4c2-4c1b9f63839c"
   },
   "outputs": [
    {
     "name": "stdout",
     "output_type": "stream",
     "text": [
      "\u001b[1m40/40\u001b[0m \u001b[32m━━━━━━━━━━━━━━━━━━━━\u001b[0m\u001b[37m\u001b[0m \u001b[1m0s\u001b[0m 1s/step - accuracy: 0.7623 - loss: 0.9538\n",
      "Epoch 1: val_loss improved from inf to 1.40690, saving model to model1-01-1.41.keras\n",
      "\u001b[1m40/40\u001b[0m \u001b[32m━━━━━━━━━━━━━━━━━━━━\u001b[0m\u001b[37m\u001b[0m \u001b[1m63s\u001b[0m 1s/step - accuracy: 0.7625 - loss: 0.9543 - val_accuracy: 0.7375 - val_loss: 1.4069 - learning_rate: 1.0000e-04\n",
      "\u001b[1m40/40\u001b[0m \u001b[32m━━━━━━━━━━━━━━━━━━━━\u001b[0m\u001b[37m\u001b[0m \u001b[1m0s\u001b[0m 1s/step - accuracy: 0.7775 - loss: 0.9189\n",
      "Epoch 1: val_loss improved from 1.40690 to 1.38720, saving model to model1-01-1.39.keras\n",
      "\u001b[1m40/40\u001b[0m \u001b[32m━━━━━━━━━━━━━━━━━━━━\u001b[0m\u001b[37m\u001b[0m \u001b[1m64s\u001b[0m 1s/step - accuracy: 0.7776 - loss: 0.9190 - val_accuracy: 0.7200 - val_loss: 1.3872 - learning_rate: 1.0000e-04\n",
      "\u001b[1m40/40\u001b[0m \u001b[32m━━━━━━━━━━━━━━━━━━━━\u001b[0m\u001b[37m\u001b[0m \u001b[1m0s\u001b[0m 1s/step - accuracy: 0.7777 - loss: 0.9189\n",
      "Epoch 1: val_loss improved from 1.38720 to 1.27564, saving model to model1-01-1.28.keras\n",
      "\u001b[1m40/40\u001b[0m \u001b[32m━━━━━━━━━━━━━━━━━━━━\u001b[0m\u001b[37m\u001b[0m \u001b[1m65s\u001b[0m 1s/step - accuracy: 0.7779 - loss: 0.9178 - val_accuracy: 0.7450 - val_loss: 1.2756 - learning_rate: 1.0000e-04\n",
      "\u001b[1m40/40\u001b[0m \u001b[32m━━━━━━━━━━━━━━━━━━━━\u001b[0m\u001b[37m\u001b[0m \u001b[1m0s\u001b[0m 1s/step - accuracy: 0.8073 - loss: 0.7888\n",
      "Epoch 1: val_loss improved from 1.27564 to 1.26990, saving model to model1-01-1.27.keras\n",
      "\u001b[1m40/40\u001b[0m \u001b[32m━━━━━━━━━━━━━━━━━━━━\u001b[0m\u001b[37m\u001b[0m \u001b[1m64s\u001b[0m 1s/step - accuracy: 0.8072 - loss: 0.7889 - val_accuracy: 0.7375 - val_loss: 1.2699 - learning_rate: 1.0000e-04\n",
      "\u001b[1m40/40\u001b[0m \u001b[32m━━━━━━━━━━━━━━━━━━━━\u001b[0m\u001b[37m\u001b[0m \u001b[1m0s\u001b[0m 1s/step - accuracy: 0.8333 - loss: 0.6851\n",
      "Epoch 1: val_loss improved from 1.26990 to 1.12202, saving model to model1-01-1.12.keras\n",
      "\u001b[1m40/40\u001b[0m \u001b[32m━━━━━━━━━━━━━━━━━━━━\u001b[0m\u001b[37m\u001b[0m \u001b[1m65s\u001b[0m 1s/step - accuracy: 0.8330 - loss: 0.6858 - val_accuracy: 0.7750 - val_loss: 1.1220 - learning_rate: 1.0000e-04\n",
      "\u001b[1m40/40\u001b[0m \u001b[32m━━━━━━━━━━━━━━━━━━━━\u001b[0m\u001b[37m\u001b[0m \u001b[1m0s\u001b[0m 1s/step - accuracy: 0.8438 - loss: 0.6078\n",
      "Epoch 1: val_loss did not improve from 1.12202\n",
      "\u001b[1m40/40\u001b[0m \u001b[32m━━━━━━━━━━━━━━━━━━━━\u001b[0m\u001b[37m\u001b[0m \u001b[1m64s\u001b[0m 1s/step - accuracy: 0.8436 - loss: 0.6089 - val_accuracy: 0.7575 - val_loss: 1.2310 - learning_rate: 1.0000e-04\n",
      "\u001b[1m40/40\u001b[0m \u001b[32m━━━━━━━━━━━━━━━━━━━━\u001b[0m\u001b[37m\u001b[0m \u001b[1m0s\u001b[0m 1s/step - accuracy: 0.8315 - loss: 0.6355\n",
      "Epoch 1: val_loss did not improve from 1.12202\n",
      "\u001b[1m40/40\u001b[0m \u001b[32m━━━━━━━━━━━━━━━━━━━━\u001b[0m\u001b[37m\u001b[0m \u001b[1m64s\u001b[0m 1s/step - accuracy: 0.8315 - loss: 0.6361 - val_accuracy: 0.7425 - val_loss: 1.2209 - learning_rate: 1.0000e-04\n",
      "\u001b[1m40/40\u001b[0m \u001b[32m━━━━━━━━━━━━━━━━━━━━\u001b[0m\u001b[37m\u001b[0m \u001b[1m0s\u001b[0m 1s/step - accuracy: 0.8412 - loss: 0.6296\n",
      "Epoch 1: val_loss improved from 1.12202 to 1.09374, saving model to model1-01-1.09.keras\n",
      "\u001b[1m40/40\u001b[0m \u001b[32m━━━━━━━━━━━━━━━━━━━━\u001b[0m\u001b[37m\u001b[0m \u001b[1m64s\u001b[0m 1s/step - accuracy: 0.8412 - loss: 0.6307 - val_accuracy: 0.7775 - val_loss: 1.0937 - learning_rate: 1.0000e-04\n",
      "\u001b[1m40/40\u001b[0m \u001b[32m━━━━━━━━━━━━━━━━━━━━\u001b[0m\u001b[37m\u001b[0m \u001b[1m0s\u001b[0m 1s/step - accuracy: 0.8476 - loss: 0.5860\n",
      "Epoch 1: val_loss did not improve from 1.09374\n",
      "\u001b[1m40/40\u001b[0m \u001b[32m━━━━━━━━━━━━━━━━━━━━\u001b[0m\u001b[37m\u001b[0m \u001b[1m64s\u001b[0m 1s/step - accuracy: 0.8478 - loss: 0.5859 - val_accuracy: 0.7875 - val_loss: 1.1967 - learning_rate: 1.0000e-04\n",
      "\u001b[1m40/40\u001b[0m \u001b[32m━━━━━━━━━━━━━━━━━━━━\u001b[0m\u001b[37m\u001b[0m \u001b[1m0s\u001b[0m 1s/step - accuracy: 0.8644 - loss: 0.5685\n",
      "Epoch 1: val_loss did not improve from 1.09374\n",
      "\u001b[1m40/40\u001b[0m \u001b[32m━━━━━━━━━━━━━━━━━━━━\u001b[0m\u001b[37m\u001b[0m \u001b[1m65s\u001b[0m 1s/step - accuracy: 0.8643 - loss: 0.5688 - val_accuracy: 0.7975 - val_loss: 1.1290 - learning_rate: 1.0000e-04\n"
     ]
    }
   ],
   "source": [
    "# Initial training block\n",
    "epochs = 10\n",
    "\n",
    "checkpoint_path = 'model1-{epoch:02d}-{val_loss:.2f}.keras'\n",
    "checkpoint = ModelCheckpoint(checkpoint_path, monitor='val_loss', verbose=1, save_best_only=True, mode='auto')\n",
    "\n",
    "# Configure the learning rate scheduler\n",
    "reduce_lr = ReduceLROnPlateau(monitor='val_loss', factor=0.1, patience=10, min_lr=0.00001, verbose=1)\n",
    "\n",
    "for epoch in range(1, 11):  # Assuming 10 epochs\n",
    "    try:\n",
    "        history1 = model.fit(\n",
    "            train_generator,\n",
    "            steps_per_epoch=len(train_generator),\n",
    "            epochs=1,  # Run one epoch at a time\n",
    "            validation_data=test_generator,\n",
    "            validation_steps=len(test_generator),\n",
    "            callbacks=[checkpoint, reduce_lr]\n",
    "        )\n",
    "    except tf.errors.OutOfRangeError:\n",
    "        print(f\"OutOfRangeError caught during epoch {epoch}, restarting epoch.\")\n",
    "        continue\n"
   ]
  },
  {
   "cell_type": "code",
   "execution_count": 17,
   "metadata": {
    "colab": {
     "base_uri": "https://localhost:8080/"
    },
    "id": "Z0MEv4hHkEYu",
    "outputId": "a2f23864-d450-4c65-9189-7332ef7890d4"
   },
   "outputs": [
    {
     "name": "stdout",
     "output_type": "stream",
     "text": [
      "\u001b[1m40/40\u001b[0m \u001b[32m━━━━━━━━━━━━━━━━━━━━\u001b[0m\u001b[37m\u001b[0m \u001b[1m0s\u001b[0m 1s/step - accuracy: 0.8519 - loss: 0.5721\n",
      "Epoch 1: val_loss improved from inf to 1.29508, saving model to model2-01-1.30.keras\n",
      "\u001b[1m40/40\u001b[0m \u001b[32m━━━━━━━━━━━━━━━━━━━━\u001b[0m\u001b[37m\u001b[0m \u001b[1m64s\u001b[0m 1s/step - accuracy: 0.8519 - loss: 0.5722 - val_accuracy: 0.7825 - val_loss: 1.2951 - learning_rate: 1.0000e-04\n",
      "\u001b[1m40/40\u001b[0m \u001b[32m━━━━━━━━━━━━━━━━━━━━\u001b[0m\u001b[37m\u001b[0m \u001b[1m0s\u001b[0m 1s/step - accuracy: 0.8395 - loss: 0.5964\n",
      "Epoch 1: val_loss did not improve from 1.29508\n",
      "\u001b[1m40/40\u001b[0m \u001b[32m━━━━━━━━━━━━━━━━━━━━\u001b[0m\u001b[37m\u001b[0m \u001b[1m64s\u001b[0m 1s/step - accuracy: 0.8395 - loss: 0.5965 - val_accuracy: 0.7600 - val_loss: 1.4177 - learning_rate: 1.0000e-04\n",
      "\u001b[1m40/40\u001b[0m \u001b[32m━━━━━━━━━━━━━━━━━━━━\u001b[0m\u001b[37m\u001b[0m \u001b[1m0s\u001b[0m 1s/step - accuracy: 0.8532 - loss: 0.5322\n",
      "Epoch 1: val_loss did not improve from 1.29508\n",
      "\u001b[1m40/40\u001b[0m \u001b[32m━━━━━━━━━━━━━━━━━━━━\u001b[0m\u001b[37m\u001b[0m \u001b[1m64s\u001b[0m 1s/step - accuracy: 0.8532 - loss: 0.5323 - val_accuracy: 0.7650 - val_loss: 1.3909 - learning_rate: 1.0000e-04\n",
      "\u001b[1m40/40\u001b[0m \u001b[32m━━━━━━━━━━━━━━━━━━━━\u001b[0m\u001b[37m\u001b[0m \u001b[1m0s\u001b[0m 1s/step - accuracy: 0.8598 - loss: 0.5746\n",
      "Epoch 1: val_loss improved from 1.29508 to 1.18245, saving model to model2-01-1.18.keras\n",
      "\u001b[1m40/40\u001b[0m \u001b[32m━━━━━━━━━━━━━━━━━━━━\u001b[0m\u001b[37m\u001b[0m \u001b[1m64s\u001b[0m 1s/step - accuracy: 0.8599 - loss: 0.5743 - val_accuracy: 0.7575 - val_loss: 1.1825 - learning_rate: 1.0000e-04\n",
      "\u001b[1m40/40\u001b[0m \u001b[32m━━━━━━━━━━━━━━━━━━━━\u001b[0m\u001b[37m\u001b[0m \u001b[1m0s\u001b[0m 1s/step - accuracy: 0.8763 - loss: 0.4875\n",
      "Epoch 1: val_loss improved from 1.18245 to 1.15743, saving model to model2-01-1.16.keras\n",
      "\u001b[1m40/40\u001b[0m \u001b[32m━━━━━━━━━━━━━━━━━━━━\u001b[0m\u001b[37m\u001b[0m \u001b[1m65s\u001b[0m 1s/step - accuracy: 0.8763 - loss: 0.4874 - val_accuracy: 0.7675 - val_loss: 1.1574 - learning_rate: 1.0000e-04\n",
      "\u001b[1m40/40\u001b[0m \u001b[32m━━━━━━━━━━━━━━━━━━━━\u001b[0m\u001b[37m\u001b[0m \u001b[1m0s\u001b[0m 1s/step - accuracy: 0.8634 - loss: 0.5046\n",
      "Epoch 1: val_loss improved from 1.15743 to 1.01865, saving model to model2-01-1.02.keras\n",
      "\u001b[1m40/40\u001b[0m \u001b[32m━━━━━━━━━━━━━━━━━━━━\u001b[0m\u001b[37m\u001b[0m \u001b[1m65s\u001b[0m 1s/step - accuracy: 0.8636 - loss: 0.5039 - val_accuracy: 0.7925 - val_loss: 1.0186 - learning_rate: 1.0000e-04\n",
      "\u001b[1m40/40\u001b[0m \u001b[32m━━━━━━━━━━━━━━━━━━━━\u001b[0m\u001b[37m\u001b[0m \u001b[1m0s\u001b[0m 1s/step - accuracy: 0.8777 - loss: 0.4981\n",
      "Epoch 1: val_loss did not improve from 1.01865\n",
      "\u001b[1m40/40\u001b[0m \u001b[32m━━━━━━━━━━━━━━━━━━━━\u001b[0m\u001b[37m\u001b[0m \u001b[1m64s\u001b[0m 1s/step - accuracy: 0.8776 - loss: 0.4984 - val_accuracy: 0.7750 - val_loss: 1.2407 - learning_rate: 1.0000e-04\n",
      "\u001b[1m40/40\u001b[0m \u001b[32m━━━━━━━━━━━━━━━━━━━━\u001b[0m\u001b[37m\u001b[0m \u001b[1m0s\u001b[0m 1s/step - accuracy: 0.8962 - loss: 0.3591\n",
      "Epoch 1: val_loss did not improve from 1.01865\n",
      "\u001b[1m40/40\u001b[0m \u001b[32m━━━━━━━━━━━━━━━━━━━━\u001b[0m\u001b[37m\u001b[0m \u001b[1m64s\u001b[0m 1s/step - accuracy: 0.8960 - loss: 0.3599 - val_accuracy: 0.7900 - val_loss: 1.2290 - learning_rate: 1.0000e-04\n",
      "\u001b[1m40/40\u001b[0m \u001b[32m━━━━━━━━━━━━━━━━━━━━\u001b[0m\u001b[37m\u001b[0m \u001b[1m0s\u001b[0m 1s/step - accuracy: 0.8798 - loss: 0.4670\n",
      "Epoch 1: val_loss did not improve from 1.01865\n",
      "\u001b[1m40/40\u001b[0m \u001b[32m━━━━━━━━━━━━━━━━━━━━\u001b[0m\u001b[37m\u001b[0m \u001b[1m64s\u001b[0m 1s/step - accuracy: 0.8800 - loss: 0.4662 - val_accuracy: 0.7775 - val_loss: 1.3227 - learning_rate: 1.0000e-04\n",
      "\u001b[1m40/40\u001b[0m \u001b[32m━━━━━━━━━━━━━━━━━━━━\u001b[0m\u001b[37m\u001b[0m \u001b[1m0s\u001b[0m 1s/step - accuracy: 0.8902 - loss: 0.4562\n",
      "Epoch 1: val_loss did not improve from 1.01865\n",
      "\u001b[1m40/40\u001b[0m \u001b[32m━━━━━━━━━━━━━━━━━━━━\u001b[0m\u001b[37m\u001b[0m \u001b[1m64s\u001b[0m 1s/step - accuracy: 0.8901 - loss: 0.4557 - val_accuracy: 0.7600 - val_loss: 1.3427 - learning_rate: 1.0000e-04\n"
     ]
    }
   ],
   "source": [
    "# Load the best model from the previous session\n",
    "model = load_model('model1-01-1.09.keras')  # Use the actual path of the best model\n",
    "\n",
    "# Prepare for the next training session\n",
    "checkpoint_path = 'model2-{epoch:02d}-{val_loss:.2f}.keras'\n",
    "checkpoint = ModelCheckpoint(checkpoint_path, monitor='val_loss', verbose=1, save_best_only=True, mode='auto')\n",
    "\n",
    "for epoch in range(1, 11):  # Assuming 10 epochs\n",
    "    try:\n",
    "        history2 = model.fit(\n",
    "            train_generator,\n",
    "            steps_per_epoch=len(train_generator),\n",
    "            epochs=1,  # Run one epoch at a time\n",
    "            validation_data=test_generator,\n",
    "            validation_steps=len(test_generator),\n",
    "            callbacks=[checkpoint, reduce_lr]\n",
    "        )\n",
    "    except tf.errors.OutOfRangeError:\n",
    "        print(f\"OutOfRangeError caught during epoch {epoch}, restarting epoch.\")\n",
    "        continue"
   ]
  },
  {
   "cell_type": "code",
   "execution_count": 18,
   "metadata": {
    "colab": {
     "base_uri": "https://localhost:8080/"
    },
    "id": "wjCyrEtinlTE",
    "outputId": "c82ba509-1137-4396-d3a3-87e51792bc8a"
   },
   "outputs": [
    {
     "name": "stdout",
     "output_type": "stream",
     "text": [
      "\u001b[1m40/40\u001b[0m \u001b[32m━━━━━━━━━━━━━━━━━━━━\u001b[0m\u001b[37m\u001b[0m \u001b[1m0s\u001b[0m 1s/step - accuracy: 0.8844 - loss: 0.5132\n",
      "Epoch 1: val_loss improved from inf to 1.29508, saving model to model3-01-1.30.keras\n",
      "\u001b[1m40/40\u001b[0m \u001b[32m━━━━━━━━━━━━━━━━━━━━\u001b[0m\u001b[37m\u001b[0m \u001b[1m65s\u001b[0m 1s/step - accuracy: 0.8843 - loss: 0.5126 - val_accuracy: 0.7650 - val_loss: 1.2951 - learning_rate: 1.0000e-04\n",
      "\u001b[1m40/40\u001b[0m \u001b[32m━━━━━━━━━━━━━━━━━━━━\u001b[0m\u001b[37m\u001b[0m \u001b[1m0s\u001b[0m 1s/step - accuracy: 0.8778 - loss: 0.4615\n",
      "Epoch 1: val_loss improved from 1.29508 to 1.22547, saving model to model3-01-1.23.keras\n",
      "\u001b[1m40/40\u001b[0m \u001b[32m━━━━━━━━━━━━━━━━━━━━\u001b[0m\u001b[37m\u001b[0m \u001b[1m65s\u001b[0m 1s/step - accuracy: 0.8778 - loss: 0.4620 - val_accuracy: 0.7625 - val_loss: 1.2255 - learning_rate: 1.0000e-04\n",
      "\u001b[1m40/40\u001b[0m \u001b[32m━━━━━━━━━━━━━━━━━━━━\u001b[0m\u001b[37m\u001b[0m \u001b[1m0s\u001b[0m 1s/step - accuracy: 0.8839 - loss: 0.4485\n",
      "Epoch 1: val_loss improved from 1.22547 to 1.07122, saving model to model3-01-1.07.keras\n",
      "\u001b[1m40/40\u001b[0m \u001b[32m━━━━━━━━━━━━━━━━━━━━\u001b[0m\u001b[37m\u001b[0m \u001b[1m64s\u001b[0m 1s/step - accuracy: 0.8839 - loss: 0.4476 - val_accuracy: 0.8000 - val_loss: 1.0712 - learning_rate: 1.0000e-04\n",
      "\u001b[1m40/40\u001b[0m \u001b[32m━━━━━━━━━━━━━━━━━━━━\u001b[0m\u001b[37m\u001b[0m \u001b[1m0s\u001b[0m 1s/step - accuracy: 0.8966 - loss: 0.3971\n",
      "Epoch 1: val_loss did not improve from 1.07122\n",
      "\u001b[1m40/40\u001b[0m \u001b[32m━━━━━━━━━━━━━━━━━━━━\u001b[0m\u001b[37m\u001b[0m \u001b[1m64s\u001b[0m 1s/step - accuracy: 0.8964 - loss: 0.3985 - val_accuracy: 0.7925 - val_loss: 1.3654 - learning_rate: 1.0000e-04\n",
      "\u001b[1m40/40\u001b[0m \u001b[32m━━━━━━━━━━━━━━━━━━━━\u001b[0m\u001b[37m\u001b[0m \u001b[1m0s\u001b[0m 1s/step - accuracy: 0.8741 - loss: 0.5030\n",
      "Epoch 1: val_loss did not improve from 1.07122\n",
      "\u001b[1m40/40\u001b[0m \u001b[32m━━━━━━━━━━━━━━━━━━━━\u001b[0m\u001b[37m\u001b[0m \u001b[1m63s\u001b[0m 1s/step - accuracy: 0.8743 - loss: 0.5024 - val_accuracy: 0.7775 - val_loss: 1.1371 - learning_rate: 1.0000e-04\n",
      "\u001b[1m40/40\u001b[0m \u001b[32m━━━━━━━━━━━━━━━━━━━━\u001b[0m\u001b[37m\u001b[0m \u001b[1m0s\u001b[0m 1s/step - accuracy: 0.8985 - loss: 0.3666\n",
      "Epoch 1: val_loss did not improve from 1.07122\n",
      "\u001b[1m40/40\u001b[0m \u001b[32m━━━━━━━━━━━━━━━━━━━━\u001b[0m\u001b[37m\u001b[0m \u001b[1m64s\u001b[0m 1s/step - accuracy: 0.8985 - loss: 0.3672 - val_accuracy: 0.7775 - val_loss: 1.1160 - learning_rate: 1.0000e-04\n",
      "\u001b[1m40/40\u001b[0m \u001b[32m━━━━━━━━━━━━━━━━━━━━\u001b[0m\u001b[37m\u001b[0m \u001b[1m0s\u001b[0m 1s/step - accuracy: 0.9038 - loss: 0.3618\n",
      "Epoch 1: val_loss did not improve from 1.07122\n",
      "\u001b[1m40/40\u001b[0m \u001b[32m━━━━━━━━━━━━━━━━━━━━\u001b[0m\u001b[37m\u001b[0m \u001b[1m65s\u001b[0m 1s/step - accuracy: 0.9038 - loss: 0.3618 - val_accuracy: 0.7775 - val_loss: 1.0760 - learning_rate: 1.0000e-04\n",
      "\u001b[1m40/40\u001b[0m \u001b[32m━━━━━━━━━━━━━━━━━━━━\u001b[0m\u001b[37m\u001b[0m \u001b[1m0s\u001b[0m 1s/step - accuracy: 0.8941 - loss: 0.4227\n",
      "Epoch 1: val_loss did not improve from 1.07122\n",
      "\u001b[1m40/40\u001b[0m \u001b[32m━━━━━━━━━━━━━━━━━━━━\u001b[0m\u001b[37m\u001b[0m \u001b[1m64s\u001b[0m 1s/step - accuracy: 0.8941 - loss: 0.4219 - val_accuracy: 0.8125 - val_loss: 1.1507 - learning_rate: 1.0000e-04\n",
      "\u001b[1m40/40\u001b[0m \u001b[32m━━━━━━━━━━━━━━━━━━━━\u001b[0m\u001b[37m\u001b[0m \u001b[1m0s\u001b[0m 1s/step - accuracy: 0.9026 - loss: 0.3848\n",
      "Epoch 1: val_loss did not improve from 1.07122\n",
      "\u001b[1m40/40\u001b[0m \u001b[32m━━━━━━━━━━━━━━━━━━━━\u001b[0m\u001b[37m\u001b[0m \u001b[1m64s\u001b[0m 1s/step - accuracy: 0.9026 - loss: 0.3845 - val_accuracy: 0.7725 - val_loss: 1.3411 - learning_rate: 1.0000e-04\n",
      "\u001b[1m40/40\u001b[0m \u001b[32m━━━━━━━━━━━━━━━━━━━━\u001b[0m\u001b[37m\u001b[0m \u001b[1m0s\u001b[0m 1s/step - accuracy: 0.8995 - loss: 0.3707\n",
      "Epoch 1: val_loss did not improve from 1.07122\n",
      "\u001b[1m40/40\u001b[0m \u001b[32m━━━━━━━━━━━━━━━━━━━━\u001b[0m\u001b[37m\u001b[0m \u001b[1m64s\u001b[0m 1s/step - accuracy: 0.8994 - loss: 0.3715 - val_accuracy: 0.7700 - val_loss: 1.2681 - learning_rate: 1.0000e-04\n"
     ]
    }
   ],
   "source": [
    "# Load the best model from the previous session\n",
    "model = load_model('model2-01-1.02.keras')  # Use the actual path of the best model\n",
    "\n",
    "# Prepare for the next training session\n",
    "checkpoint_path = 'model3-{epoch:02d}-{val_loss:.2f}.keras'\n",
    "checkpoint = ModelCheckpoint(checkpoint_path, monitor='val_loss', verbose=1, save_best_only=True, mode='auto')\n",
    "\n",
    "for epoch in range(1, 11):  # Assuming 10 epochs\n",
    "    try:\n",
    "        history3 = model.fit(\n",
    "            train_generator,\n",
    "            steps_per_epoch=len(train_generator),\n",
    "            epochs=1,  # Run one epoch at a time\n",
    "            validation_data=test_generator,\n",
    "            validation_steps=len(test_generator),\n",
    "            callbacks=[checkpoint, reduce_lr]\n",
    "        )\n",
    "    except tf.errors.OutOfRangeError:\n",
    "        print(f\"OutOfRangeError caught during epoch {epoch}, restarting epoch.\")\n",
    "        continue"
   ]
  },
  {
   "cell_type": "code",
   "execution_count": 19,
   "metadata": {
    "colab": {
     "base_uri": "https://localhost:8080/",
     "height": 574
    },
    "id": "opbt7yO3pWPu",
    "outputId": "83991854-b975-4a47-96d6-7ad334e0a5f2"
   },
   "outputs": [
    {
     "name": "stdout",
     "output_type": "stream",
     "text": [
      "\u001b[1m40/40\u001b[0m \u001b[32m━━━━━━━━━━━━━━━━━━━━\u001b[0m\u001b[37m\u001b[0m \u001b[1m0s\u001b[0m 1s/step - accuracy: 0.8930 - loss: 0.4094\n",
      "Epoch 1: val_loss improved from inf to 1.04254, saving model to model4-01-1.04.keras\n",
      "\u001b[1m40/40\u001b[0m \u001b[32m━━━━━━━━━━━━━━━━━━━━\u001b[0m\u001b[37m\u001b[0m \u001b[1m66s\u001b[0m 1s/step - accuracy: 0.8932 - loss: 0.4090 - val_accuracy: 0.8050 - val_loss: 1.0425 - learning_rate: 1.0000e-04\n",
      "\u001b[1m40/40\u001b[0m \u001b[32m━━━━━━━━━━━━━━━━━━━━\u001b[0m\u001b[37m\u001b[0m \u001b[1m0s\u001b[0m 1s/step - accuracy: 0.8896 - loss: 0.4374\n",
      "Epoch 1: val_loss did not improve from 1.04254\n",
      "\u001b[1m40/40\u001b[0m \u001b[32m━━━━━━━━━━━━━━━━━━━━\u001b[0m\u001b[37m\u001b[0m \u001b[1m65s\u001b[0m 1s/step - accuracy: 0.8896 - loss: 0.4377 - val_accuracy: 0.7700 - val_loss: 1.3321 - learning_rate: 1.0000e-04\n",
      "\u001b[1m40/40\u001b[0m \u001b[32m━━━━━━━━━━━━━━━━━━━━\u001b[0m\u001b[37m\u001b[0m \u001b[1m0s\u001b[0m 1s/step - accuracy: 0.8877 - loss: 0.4321\n",
      "Epoch 1: val_loss did not improve from 1.04254\n",
      "\u001b[1m40/40\u001b[0m \u001b[32m━━━━━━━━━━━━━━━━━━━━\u001b[0m\u001b[37m\u001b[0m \u001b[1m65s\u001b[0m 1s/step - accuracy: 0.8879 - loss: 0.4319 - val_accuracy: 0.7700 - val_loss: 1.3197 - learning_rate: 1.0000e-04\n",
      "\u001b[1m40/40\u001b[0m \u001b[32m━━━━━━━━━━━━━━━━━━━━\u001b[0m\u001b[37m\u001b[0m \u001b[1m0s\u001b[0m 1s/step - accuracy: 0.8900 - loss: 0.4662\n",
      "Epoch 1: val_loss did not improve from 1.04254\n",
      "\u001b[1m40/40\u001b[0m \u001b[32m━━━━━━━━━━━━━━━━━━━━\u001b[0m\u001b[37m\u001b[0m \u001b[1m64s\u001b[0m 1s/step - accuracy: 0.8903 - loss: 0.4646 - val_accuracy: 0.7600 - val_loss: 1.3904 - learning_rate: 1.0000e-04\n",
      "\u001b[1m40/40\u001b[0m \u001b[32m━━━━━━━━━━━━━━━━━━━━\u001b[0m\u001b[37m\u001b[0m \u001b[1m0s\u001b[0m 1s/step - accuracy: 0.8889 - loss: 0.4493\n",
      "Epoch 1: val_loss did not improve from 1.04254\n",
      "\u001b[1m40/40\u001b[0m \u001b[32m━━━━━━━━━━━━━━━━━━━━\u001b[0m\u001b[37m\u001b[0m \u001b[1m64s\u001b[0m 1s/step - accuracy: 0.8889 - loss: 0.4490 - val_accuracy: 0.8000 - val_loss: 1.2011 - learning_rate: 1.0000e-04\n",
      "\u001b[1m40/40\u001b[0m \u001b[32m━━━━━━━━━━━━━━━━━━━━\u001b[0m\u001b[37m\u001b[0m \u001b[1m0s\u001b[0m 1s/step - accuracy: 0.9162 - loss: 0.3449\n",
      "Epoch 1: val_loss did not improve from 1.04254\n",
      "\u001b[1m40/40\u001b[0m \u001b[32m━━━━━━━━━━━━━━━━━━━━\u001b[0m\u001b[37m\u001b[0m \u001b[1m64s\u001b[0m 1s/step - accuracy: 0.9162 - loss: 0.3451 - val_accuracy: 0.7700 - val_loss: 1.2416 - learning_rate: 1.0000e-04\n",
      "\u001b[1m40/40\u001b[0m \u001b[32m━━━━━━━━━━━━━━━━━━━━\u001b[0m\u001b[37m\u001b[0m \u001b[1m0s\u001b[0m 1s/step - accuracy: 0.9100 - loss: 0.3488\n",
      "Epoch 1: val_loss did not improve from 1.04254\n",
      "\u001b[1m40/40\u001b[0m \u001b[32m━━━━━━━━━━━━━━━━━━━━\u001b[0m\u001b[37m\u001b[0m \u001b[1m64s\u001b[0m 1s/step - accuracy: 0.9100 - loss: 0.3487 - val_accuracy: 0.8000 - val_loss: 1.1681 - learning_rate: 1.0000e-04\n",
      "\u001b[1m40/40\u001b[0m \u001b[32m━━━━━━━━━━━━━━━━━━━━\u001b[0m\u001b[37m\u001b[0m \u001b[1m0s\u001b[0m 1s/step - accuracy: 0.9175 - loss: 0.3182\n",
      "Epoch 1: val_loss did not improve from 1.04254\n",
      "\u001b[1m40/40\u001b[0m \u001b[32m━━━━━━━━━━━━━━━━━━━━\u001b[0m\u001b[37m\u001b[0m \u001b[1m64s\u001b[0m 1s/step - accuracy: 0.9176 - loss: 0.3176 - val_accuracy: 0.7750 - val_loss: 1.5483 - learning_rate: 1.0000e-04\n",
      "\u001b[1m40/40\u001b[0m \u001b[32m━━━━━━━━━━━━━━━━━━━━\u001b[0m\u001b[37m\u001b[0m \u001b[1m0s\u001b[0m 1s/step - accuracy: 0.9202 - loss: 0.3609\n",
      "Epoch 1: val_loss did not improve from 1.04254\n",
      "\u001b[1m40/40\u001b[0m \u001b[32m━━━━━━━━━━━━━━━━━━━━\u001b[0m\u001b[37m\u001b[0m \u001b[1m64s\u001b[0m 1s/step - accuracy: 0.9201 - loss: 0.3609 - val_accuracy: 0.7900 - val_loss: 1.2995 - learning_rate: 1.0000e-04\n",
      "\u001b[1m40/40\u001b[0m \u001b[32m━━━━━━━━━━━━━━━━━━━━\u001b[0m\u001b[37m\u001b[0m \u001b[1m0s\u001b[0m 1s/step - accuracy: 0.9175 - loss: 0.2707\n",
      "Epoch 1: val_loss did not improve from 1.04254\n",
      "\u001b[1m40/40\u001b[0m \u001b[32m━━━━━━━━━━━━━━━━━━━━\u001b[0m\u001b[37m\u001b[0m \u001b[1m64s\u001b[0m 1s/step - accuracy: 0.9174 - loss: 0.2717 - val_accuracy: 0.7700 - val_loss: 1.3228 - learning_rate: 1.0000e-04\n"
     ]
    }
   ],
   "source": [
    "# Load the best model from the previous session\n",
    "model = load_model('model3-01-1.07.keras')  # Use the actual path of the best model\n",
    "\n",
    "# Prepare for the next training session\n",
    "checkpoint_path = 'model4-{epoch:02d}-{val_loss:.2f}.keras'\n",
    "checkpoint = ModelCheckpoint(checkpoint_path, monitor='val_loss', verbose=1, save_best_only=True, mode='auto')\n",
    "\n",
    "for epoch in range(1, 11):  # Assuming 10 epochs\n",
    "    try:\n",
    "        history4 = model.fit(\n",
    "            train_generator,\n",
    "            steps_per_epoch=len(train_generator),\n",
    "            epochs=1,  # Run one epoch at a time\n",
    "            validation_data=test_generator,\n",
    "            validation_steps=len(test_generator),\n",
    "            callbacks=[checkpoint, reduce_lr]\n",
    "        )\n",
    "    except tf.errors.OutOfRangeError:\n",
    "        print(f\"OutOfRangeError caught during epoch {epoch}, restarting epoch.\")\n",
    "        continue"
   ]
  },
  {
   "cell_type": "code",
   "execution_count": 20,
   "metadata": {},
   "outputs": [
    {
     "name": "stdout",
     "output_type": "stream",
     "text": [
      "\u001b[1m40/40\u001b[0m \u001b[32m━━━━━━━━━━━━━━━━━━━━\u001b[0m\u001b[37m\u001b[0m \u001b[1m0s\u001b[0m 1s/step - accuracy: 0.8972 - loss: 0.3738\n",
      "Epoch 1: val_loss improved from inf to 1.19038, saving model to model5-01-1.19.keras\n",
      "\u001b[1m40/40\u001b[0m \u001b[32m━━━━━━━━━━━━━━━━━━━━\u001b[0m\u001b[37m\u001b[0m \u001b[1m65s\u001b[0m 1s/step - accuracy: 0.8971 - loss: 0.3750 - val_accuracy: 0.7775 - val_loss: 1.1904 - learning_rate: 1.0000e-04\n",
      "\u001b[1m40/40\u001b[0m \u001b[32m━━━━━━━━━━━━━━━━━━━━\u001b[0m\u001b[37m\u001b[0m \u001b[1m0s\u001b[0m 1s/step - accuracy: 0.8910 - loss: 0.4427\n",
      "Epoch 1: val_loss did not improve from 1.19038\n",
      "\u001b[1m40/40\u001b[0m \u001b[32m━━━━━━━━━━━━━━━━━━━━\u001b[0m\u001b[37m\u001b[0m \u001b[1m64s\u001b[0m 1s/step - accuracy: 0.8910 - loss: 0.4427 - val_accuracy: 0.7800 - val_loss: 1.2754 - learning_rate: 1.0000e-04\n",
      "\u001b[1m40/40\u001b[0m \u001b[32m━━━━━━━━━━━━━━━━━━━━\u001b[0m\u001b[37m\u001b[0m \u001b[1m0s\u001b[0m 1s/step - accuracy: 0.8881 - loss: 0.4187\n",
      "Epoch 1: val_loss did not improve from 1.19038\n",
      "\u001b[1m40/40\u001b[0m \u001b[32m━━━━━━━━━━━━━━━━━━━━\u001b[0m\u001b[37m\u001b[0m \u001b[1m65s\u001b[0m 1s/step - accuracy: 0.8882 - loss: 0.4191 - val_accuracy: 0.7775 - val_loss: 1.2281 - learning_rate: 1.0000e-04\n",
      "\u001b[1m40/40\u001b[0m \u001b[32m━━━━━━━━━━━━━━━━━━━━\u001b[0m\u001b[37m\u001b[0m \u001b[1m0s\u001b[0m 1s/step - accuracy: 0.8982 - loss: 0.3464\n",
      "Epoch 1: val_loss did not improve from 1.19038\n",
      "\u001b[1m40/40\u001b[0m \u001b[32m━━━━━━━━━━━━━━━━━━━━\u001b[0m\u001b[37m\u001b[0m \u001b[1m64s\u001b[0m 1s/step - accuracy: 0.8982 - loss: 0.3473 - val_accuracy: 0.7900 - val_loss: 1.2601 - learning_rate: 1.0000e-04\n",
      "\u001b[1m40/40\u001b[0m \u001b[32m━━━━━━━━━━━━━━━━━━━━\u001b[0m\u001b[37m\u001b[0m \u001b[1m0s\u001b[0m 1s/step - accuracy: 0.8973 - loss: 0.4416\n",
      "Epoch 1: val_loss improved from 1.19038 to 1.14045, saving model to model5-01-1.14.keras\n",
      "\u001b[1m40/40\u001b[0m \u001b[32m━━━━━━━━━━━━━━━━━━━━\u001b[0m\u001b[37m\u001b[0m \u001b[1m64s\u001b[0m 1s/step - accuracy: 0.8973 - loss: 0.4405 - val_accuracy: 0.7950 - val_loss: 1.1405 - learning_rate: 1.0000e-04\n",
      "\u001b[1m40/40\u001b[0m \u001b[32m━━━━━━━━━━━━━━━━━━━━\u001b[0m\u001b[37m\u001b[0m \u001b[1m0s\u001b[0m 1s/step - accuracy: 0.9037 - loss: 0.3525\n",
      "Epoch 1: val_loss did not improve from 1.14045\n",
      "\u001b[1m40/40\u001b[0m \u001b[32m━━━━━━━━━━━━━━━━━━━━\u001b[0m\u001b[37m\u001b[0m \u001b[1m65s\u001b[0m 1s/step - accuracy: 0.9038 - loss: 0.3531 - val_accuracy: 0.7925 - val_loss: 1.2639 - learning_rate: 1.0000e-04\n",
      "\u001b[1m40/40\u001b[0m \u001b[32m━━━━━━━━━━━━━━━━━━━━\u001b[0m\u001b[37m\u001b[0m \u001b[1m0s\u001b[0m 1s/step - accuracy: 0.9090 - loss: 0.3632\n",
      "Epoch 1: val_loss improved from 1.14045 to 1.10602, saving model to model5-01-1.11.keras\n",
      "\u001b[1m40/40\u001b[0m \u001b[32m━━━━━━━━━━━━━━━━━━━━\u001b[0m\u001b[37m\u001b[0m \u001b[1m66s\u001b[0m 1s/step - accuracy: 0.9089 - loss: 0.3633 - val_accuracy: 0.8025 - val_loss: 1.1060 - learning_rate: 1.0000e-04\n",
      "\u001b[1m40/40\u001b[0m \u001b[32m━━━━━━━━━━━━━━━━━━━━\u001b[0m\u001b[37m\u001b[0m \u001b[1m0s\u001b[0m 1s/step - accuracy: 0.9004 - loss: 0.3611\n",
      "Epoch 1: val_loss did not improve from 1.10602\n",
      "\u001b[1m40/40\u001b[0m \u001b[32m━━━━━━━━━━━━━━━━━━━━\u001b[0m\u001b[37m\u001b[0m \u001b[1m63s\u001b[0m 1s/step - accuracy: 0.9006 - loss: 0.3605 - val_accuracy: 0.7825 - val_loss: 1.3977 - learning_rate: 1.0000e-04\n",
      "\u001b[1m40/40\u001b[0m \u001b[32m━━━━━━━━━━━━━━━━━━━━\u001b[0m\u001b[37m\u001b[0m \u001b[1m0s\u001b[0m 1s/step - accuracy: 0.9000 - loss: 0.3725\n",
      "Epoch 1: val_loss did not improve from 1.10602\n",
      "\u001b[1m40/40\u001b[0m \u001b[32m━━━━━━━━━━━━━━━━━━━━\u001b[0m\u001b[37m\u001b[0m \u001b[1m64s\u001b[0m 1s/step - accuracy: 0.9002 - loss: 0.3718 - val_accuracy: 0.7875 - val_loss: 1.2566 - learning_rate: 1.0000e-04\n",
      "\u001b[1m40/40\u001b[0m \u001b[32m━━━━━━━━━━━━━━━━━━━━\u001b[0m\u001b[37m\u001b[0m \u001b[1m0s\u001b[0m 1s/step - accuracy: 0.9219 - loss: 0.3610\n",
      "Epoch 1: val_loss improved from 1.10602 to 1.05613, saving model to model5-01-1.06.keras\n",
      "\u001b[1m40/40\u001b[0m \u001b[32m━━━━━━━━━━━━━━━━━━━━\u001b[0m\u001b[37m\u001b[0m \u001b[1m64s\u001b[0m 1s/step - accuracy: 0.9218 - loss: 0.3606 - val_accuracy: 0.7875 - val_loss: 1.0561 - learning_rate: 1.0000e-04\n"
     ]
    }
   ],
   "source": [
    "# Load the best model from the previous session\n",
    "model = load_model('model4-01-1.04.keras')  # Use the actual path of the best model\n",
    "\n",
    "# Prepare for the next training session\n",
    "checkpoint_path = 'model5-{epoch:02d}-{val_loss:.2f}.keras'\n",
    "checkpoint = ModelCheckpoint(checkpoint_path, monitor='val_loss', verbose=1, save_best_only=True, mode='auto')\n",
    "\n",
    "for epoch in range(1, 11):  # Assuming 10 epochs\n",
    "    try:\n",
    "        history5 = model.fit(\n",
    "            train_generator,\n",
    "            steps_per_epoch=len(train_generator),\n",
    "            epochs=1,  # Run one epoch at a time\n",
    "            validation_data=test_generator,\n",
    "            validation_steps=len(test_generator),\n",
    "            callbacks=[checkpoint, reduce_lr]\n",
    "        )\n",
    "    except tf.errors.OutOfRangeError:\n",
    "        print(f\"OutOfRangeError caught during epoch {epoch}, restarting epoch.\")\n",
    "        continue"
   ]
  },
  {
   "cell_type": "code",
   "execution_count": 21,
   "metadata": {},
   "outputs": [
    {
     "name": "stdout",
     "output_type": "stream",
     "text": [
      "\u001b[1m40/40\u001b[0m \u001b[32m━━━━━━━━━━━━━━━━━━━━\u001b[0m\u001b[37m\u001b[0m \u001b[1m0s\u001b[0m 1s/step - accuracy: 0.9192 - loss: 0.2980\n",
      "Epoch 1: val_loss improved from inf to 1.10875, saving model to model6-01-1.11.keras\n",
      "\u001b[1m40/40\u001b[0m \u001b[32m━━━━━━━━━━━━━━━━━━━━\u001b[0m\u001b[37m\u001b[0m \u001b[1m65s\u001b[0m 1s/step - accuracy: 0.9191 - loss: 0.2991 - val_accuracy: 0.7900 - val_loss: 1.1088 - learning_rate: 1.0000e-04\n",
      "\u001b[1m40/40\u001b[0m \u001b[32m━━━━━━━━━━━━━━━━━━━━\u001b[0m\u001b[37m\u001b[0m \u001b[1m0s\u001b[0m 1s/step - accuracy: 0.9147 - loss: 0.3059\n",
      "Epoch 1: val_loss did not improve from 1.10875\n",
      "\u001b[1m40/40\u001b[0m \u001b[32m━━━━━━━━━━━━━━━━━━━━\u001b[0m\u001b[37m\u001b[0m \u001b[1m63s\u001b[0m 1s/step - accuracy: 0.9147 - loss: 0.3059 - val_accuracy: 0.7925 - val_loss: 1.1259 - learning_rate: 1.0000e-04\n",
      "\u001b[1m40/40\u001b[0m \u001b[32m━━━━━━━━━━━━━━━━━━━━\u001b[0m\u001b[37m\u001b[0m \u001b[1m0s\u001b[0m 1s/step - accuracy: 0.9132 - loss: 0.3355\n",
      "Epoch 1: val_loss did not improve from 1.10875\n",
      "\u001b[1m40/40\u001b[0m \u001b[32m━━━━━━━━━━━━━━━━━━━━\u001b[0m\u001b[37m\u001b[0m \u001b[1m65s\u001b[0m 1s/step - accuracy: 0.9132 - loss: 0.3355 - val_accuracy: 0.8025 - val_loss: 1.2170 - learning_rate: 1.0000e-04\n",
      "\u001b[1m40/40\u001b[0m \u001b[32m━━━━━━━━━━━━━━━━━━━━\u001b[0m\u001b[37m\u001b[0m \u001b[1m0s\u001b[0m 1s/step - accuracy: 0.9106 - loss: 0.3259\n",
      "Epoch 1: val_loss improved from 1.10875 to 1.08031, saving model to model6-01-1.08.keras\n",
      "\u001b[1m40/40\u001b[0m \u001b[32m━━━━━━━━━━━━━━━━━━━━\u001b[0m\u001b[37m\u001b[0m \u001b[1m64s\u001b[0m 1s/step - accuracy: 0.9107 - loss: 0.3249 - val_accuracy: 0.8100 - val_loss: 1.0803 - learning_rate: 1.0000e-04\n",
      "\u001b[1m40/40\u001b[0m \u001b[32m━━━━━━━━━━━━━━━━━━━━\u001b[0m\u001b[37m\u001b[0m \u001b[1m0s\u001b[0m 1s/step - accuracy: 0.9215 - loss: 0.2815\n",
      "Epoch 1: val_loss did not improve from 1.08031\n",
      "\u001b[1m40/40\u001b[0m \u001b[32m━━━━━━━━━━━━━━━━━━━━\u001b[0m\u001b[37m\u001b[0m \u001b[1m64s\u001b[0m 1s/step - accuracy: 0.9216 - loss: 0.2815 - val_accuracy: 0.7925 - val_loss: 1.1482 - learning_rate: 1.0000e-04\n",
      "\u001b[1m40/40\u001b[0m \u001b[32m━━━━━━━━━━━━━━━━━━━━\u001b[0m\u001b[37m\u001b[0m \u001b[1m0s\u001b[0m 1s/step - accuracy: 0.9265 - loss: 0.3508\n",
      "Epoch 1: val_loss did not improve from 1.08031\n",
      "\u001b[1m40/40\u001b[0m \u001b[32m━━━━━━━━━━━━━━━━━━━━\u001b[0m\u001b[37m\u001b[0m \u001b[1m64s\u001b[0m 1s/step - accuracy: 0.9264 - loss: 0.3498 - val_accuracy: 0.7975 - val_loss: 1.2317 - learning_rate: 1.0000e-04\n",
      "\u001b[1m40/40\u001b[0m \u001b[32m━━━━━━━━━━━━━━━━━━━━\u001b[0m\u001b[37m\u001b[0m \u001b[1m0s\u001b[0m 1s/step - accuracy: 0.9326 - loss: 0.2571\n",
      "Epoch 1: val_loss did not improve from 1.08031\n",
      "\u001b[1m40/40\u001b[0m \u001b[32m━━━━━━━━━━━━━━━━━━━━\u001b[0m\u001b[37m\u001b[0m \u001b[1m63s\u001b[0m 1s/step - accuracy: 0.9325 - loss: 0.2573 - val_accuracy: 0.8000 - val_loss: 1.2363 - learning_rate: 1.0000e-04\n",
      "\u001b[1m40/40\u001b[0m \u001b[32m━━━━━━━━━━━━━━━━━━━━\u001b[0m\u001b[37m\u001b[0m \u001b[1m0s\u001b[0m 1s/step - accuracy: 0.9418 - loss: 0.2136\n",
      "Epoch 1: val_loss did not improve from 1.08031\n",
      "\u001b[1m40/40\u001b[0m \u001b[32m━━━━━━━━━━━━━━━━━━━━\u001b[0m\u001b[37m\u001b[0m \u001b[1m64s\u001b[0m 1s/step - accuracy: 0.9417 - loss: 0.2150 - val_accuracy: 0.7900 - val_loss: 1.3705 - learning_rate: 1.0000e-04\n",
      "\u001b[1m40/40\u001b[0m \u001b[32m━━━━━━━━━━━━━━━━━━━━\u001b[0m\u001b[37m\u001b[0m \u001b[1m0s\u001b[0m 1s/step - accuracy: 0.9412 - loss: 0.2185\n",
      "Epoch 1: val_loss did not improve from 1.08031\n",
      "\u001b[1m40/40\u001b[0m \u001b[32m━━━━━━━━━━━━━━━━━━━━\u001b[0m\u001b[37m\u001b[0m \u001b[1m64s\u001b[0m 1s/step - accuracy: 0.9409 - loss: 0.2199 - val_accuracy: 0.7925 - val_loss: 1.2744 - learning_rate: 1.0000e-04\n",
      "\u001b[1m40/40\u001b[0m \u001b[32m━━━━━━━━━━━━━━━━━━━━\u001b[0m\u001b[37m\u001b[0m \u001b[1m0s\u001b[0m 1s/step - accuracy: 0.9339 - loss: 0.2101\n",
      "Epoch 1: val_loss did not improve from 1.08031\n",
      "\u001b[1m40/40\u001b[0m \u001b[32m━━━━━━━━━━━━━━━━━━━━\u001b[0m\u001b[37m\u001b[0m \u001b[1m63s\u001b[0m 1s/step - accuracy: 0.9338 - loss: 0.2105 - val_accuracy: 0.8025 - val_loss: 1.2380 - learning_rate: 1.0000e-04\n"
     ]
    }
   ],
   "source": [
    "# Load the best model from the previous session\n",
    "model = load_model('model5-01-1.06.keras')  # Use the actual path of the best model\n",
    "\n",
    "# Prepare for the next training session\n",
    "checkpoint_path = 'model6-{epoch:02d}-{val_loss:.2f}.keras'\n",
    "checkpoint = ModelCheckpoint(checkpoint_path, monitor='val_loss', verbose=1, save_best_only=True, mode='auto')\n",
    "\n",
    "for epoch in range(1, 11):  # Assuming 10 epochs\n",
    "    try:\n",
    "        history6 = model.fit(\n",
    "            train_generator,\n",
    "            steps_per_epoch=len(train_generator),\n",
    "            epochs=1,  # Run one epoch at a time\n",
    "            validation_data=test_generator,\n",
    "            validation_steps=len(test_generator),\n",
    "            callbacks=[checkpoint, reduce_lr]\n",
    "        )\n",
    "    except tf.errors.OutOfRangeError:\n",
    "        print(f\"OutOfRangeError caught during epoch {epoch}, restarting epoch.\")\n",
    "        continue"
   ]
  },
  {
   "cell_type": "code",
   "execution_count": 22,
   "metadata": {},
   "outputs": [
    {
     "name": "stdout",
     "output_type": "stream",
     "text": [
      "\u001b[1m40/40\u001b[0m \u001b[32m━━━━━━━━━━━━━━━━━━━━\u001b[0m\u001b[37m\u001b[0m \u001b[1m0s\u001b[0m 1s/step - accuracy: 0.9211 - loss: 0.3188\n",
      "Epoch 1: val_loss improved from inf to 1.20135, saving model to model7-01-1.20.keras\n",
      "\u001b[1m40/40\u001b[0m \u001b[32m━━━━━━━━━━━━━━━━━━━━\u001b[0m\u001b[37m\u001b[0m \u001b[1m65s\u001b[0m 1s/step - accuracy: 0.9211 - loss: 0.3187 - val_accuracy: 0.7925 - val_loss: 1.2014 - learning_rate: 1.0000e-04\n",
      "\u001b[1m40/40\u001b[0m \u001b[32m━━━━━━━━━━━━━━━━━━━━\u001b[0m\u001b[37m\u001b[0m \u001b[1m0s\u001b[0m 1s/step - accuracy: 0.9181 - loss: 0.3055\n",
      "Epoch 1: val_loss improved from 1.20135 to 1.04089, saving model to model7-01-1.04.keras\n",
      "\u001b[1m40/40\u001b[0m \u001b[32m━━━━━━━━━━━━━━━━━━━━\u001b[0m\u001b[37m\u001b[0m \u001b[1m64s\u001b[0m 1s/step - accuracy: 0.9182 - loss: 0.3053 - val_accuracy: 0.8200 - val_loss: 1.0409 - learning_rate: 1.0000e-04\n",
      "\u001b[1m40/40\u001b[0m \u001b[32m━━━━━━━━━━━━━━━━━━━━\u001b[0m\u001b[37m\u001b[0m \u001b[1m0s\u001b[0m 1s/step - accuracy: 0.9202 - loss: 0.3358\n",
      "Epoch 1: val_loss did not improve from 1.04089\n",
      "\u001b[1m40/40\u001b[0m \u001b[32m━━━━━━━━━━━━━━━━━━━━\u001b[0m\u001b[37m\u001b[0m \u001b[1m64s\u001b[0m 1s/step - accuracy: 0.9202 - loss: 0.3355 - val_accuracy: 0.7950 - val_loss: 1.3318 - learning_rate: 1.0000e-04\n",
      "\u001b[1m40/40\u001b[0m \u001b[32m━━━━━━━━━━━━━━━━━━━━\u001b[0m\u001b[37m\u001b[0m \u001b[1m0s\u001b[0m 1s/step - accuracy: 0.9260 - loss: 0.3116\n",
      "Epoch 1: val_loss did not improve from 1.04089\n",
      "\u001b[1m40/40\u001b[0m \u001b[32m━━━━━━━━━━━━━━━━━━━━\u001b[0m\u001b[37m\u001b[0m \u001b[1m64s\u001b[0m 1s/step - accuracy: 0.9262 - loss: 0.3105 - val_accuracy: 0.8000 - val_loss: 1.0982 - learning_rate: 1.0000e-04\n",
      "\u001b[1m40/40\u001b[0m \u001b[32m━━━━━━━━━━━━━━━━━━━━\u001b[0m\u001b[37m\u001b[0m \u001b[1m0s\u001b[0m 1s/step - accuracy: 0.9341 - loss: 0.2478\n",
      "Epoch 1: val_loss did not improve from 1.04089\n",
      "\u001b[1m40/40\u001b[0m \u001b[32m━━━━━━━━━━━━━━━━━━━━\u001b[0m\u001b[37m\u001b[0m \u001b[1m64s\u001b[0m 1s/step - accuracy: 0.9340 - loss: 0.2485 - val_accuracy: 0.8075 - val_loss: 1.1233 - learning_rate: 1.0000e-04\n",
      "\u001b[1m40/40\u001b[0m \u001b[32m━━━━━━━━━━━━━━━━━━━━\u001b[0m\u001b[37m\u001b[0m \u001b[1m0s\u001b[0m 1s/step - accuracy: 0.9246 - loss: 0.3234\n",
      "Epoch 1: val_loss did not improve from 1.04089\n",
      "\u001b[1m40/40\u001b[0m \u001b[32m━━━━━━━━━━━━━━━━━━━━\u001b[0m\u001b[37m\u001b[0m \u001b[1m64s\u001b[0m 1s/step - accuracy: 0.9246 - loss: 0.3228 - val_accuracy: 0.8200 - val_loss: 1.1490 - learning_rate: 1.0000e-04\n",
      "\u001b[1m40/40\u001b[0m \u001b[32m━━━━━━━━━━━━━━━━━━━━\u001b[0m\u001b[37m\u001b[0m \u001b[1m0s\u001b[0m 1s/step - accuracy: 0.9300 - loss: 0.2982\n",
      "Epoch 1: val_loss did not improve from 1.04089\n",
      "\u001b[1m40/40\u001b[0m \u001b[32m━━━━━━━━━━━━━━━━━━━━\u001b[0m\u001b[37m\u001b[0m \u001b[1m64s\u001b[0m 1s/step - accuracy: 0.9301 - loss: 0.2977 - val_accuracy: 0.7900 - val_loss: 1.2548 - learning_rate: 1.0000e-04\n",
      "\u001b[1m40/40\u001b[0m \u001b[32m━━━━━━━━━━━━━━━━━━━━\u001b[0m\u001b[37m\u001b[0m \u001b[1m0s\u001b[0m 1s/step - accuracy: 0.9477 - loss: 0.2388\n",
      "Epoch 1: val_loss did not improve from 1.04089\n",
      "\u001b[1m40/40\u001b[0m \u001b[32m━━━━━━━━━━━━━━━━━━━━\u001b[0m\u001b[37m\u001b[0m \u001b[1m64s\u001b[0m 1s/step - accuracy: 0.9475 - loss: 0.2389 - val_accuracy: 0.7950 - val_loss: 1.2814 - learning_rate: 1.0000e-04\n",
      "\u001b[1m40/40\u001b[0m \u001b[32m━━━━━━━━━━━━━━━━━━━━\u001b[0m\u001b[37m\u001b[0m \u001b[1m0s\u001b[0m 1s/step - accuracy: 0.9412 - loss: 0.2406\n",
      "Epoch 1: val_loss did not improve from 1.04089\n",
      "\u001b[1m40/40\u001b[0m \u001b[32m━━━━━━━━━━━━━━━━━━━━\u001b[0m\u001b[37m\u001b[0m \u001b[1m64s\u001b[0m 1s/step - accuracy: 0.9411 - loss: 0.2409 - val_accuracy: 0.8025 - val_loss: 1.1669 - learning_rate: 1.0000e-04\n",
      "\u001b[1m40/40\u001b[0m \u001b[32m━━━━━━━━━━━━━━━━━━━━\u001b[0m\u001b[37m\u001b[0m \u001b[1m0s\u001b[0m 1s/step - accuracy: 0.9501 - loss: 0.1987\n",
      "Epoch 1: val_loss did not improve from 1.04089\n",
      "\u001b[1m40/40\u001b[0m \u001b[32m━━━━━━━━━━━━━━━━━━━━\u001b[0m\u001b[37m\u001b[0m \u001b[1m65s\u001b[0m 1s/step - accuracy: 0.9499 - loss: 0.1998 - val_accuracy: 0.7900 - val_loss: 1.3440 - learning_rate: 1.0000e-04\n"
     ]
    }
   ],
   "source": [
    "# Load the best model from the previous session\n",
    "model = load_model('model6-01-1.08.keras')  # Use the actual path of the best model\n",
    "\n",
    "# Prepare for the next training session\n",
    "checkpoint_path = 'model7-{epoch:02d}-{val_loss:.2f}.keras'\n",
    "checkpoint = ModelCheckpoint(checkpoint_path, monitor='val_loss', verbose=1, save_best_only=True, mode='auto')\n",
    "\n",
    "for epoch in range(1, 11):  # Assuming 10 epochs\n",
    "    try:\n",
    "        history7 = model.fit(\n",
    "            train_generator,\n",
    "            steps_per_epoch=len(train_generator),\n",
    "            epochs=1,  # Run one epoch at a time\n",
    "            validation_data=test_generator,\n",
    "            validation_steps=len(test_generator),\n",
    "            callbacks=[checkpoint, reduce_lr]\n",
    "        )\n",
    "    except tf.errors.OutOfRangeError:\n",
    "        print(f\"OutOfRangeError caught during epoch {epoch}, restarting epoch.\")\n",
    "        continue"
   ]
  },
  {
   "cell_type": "code",
   "execution_count": 23,
   "metadata": {},
   "outputs": [
    {
     "name": "stdout",
     "output_type": "stream",
     "text": [
      "\u001b[1m40/40\u001b[0m \u001b[32m━━━━━━━━━━━━━━━━━━━━\u001b[0m\u001b[37m\u001b[0m \u001b[1m0s\u001b[0m 1s/step - accuracy: 0.9317 - loss: 0.2847\n",
      "Epoch 1: val_loss improved from inf to 1.20770, saving model to model8-01-1.21.keras\n",
      "\u001b[1m40/40\u001b[0m \u001b[32m━━━━━━━━━━━━━━━━━━━━\u001b[0m\u001b[37m\u001b[0m \u001b[1m65s\u001b[0m 1s/step - accuracy: 0.9317 - loss: 0.2848 - val_accuracy: 0.7950 - val_loss: 1.2077 - learning_rate: 1.0000e-04\n",
      "\u001b[1m40/40\u001b[0m \u001b[32m━━━━━━━━━━━━━━━━━━━━\u001b[0m\u001b[37m\u001b[0m \u001b[1m0s\u001b[0m 1s/step - accuracy: 0.9212 - loss: 0.2854\n",
      "Epoch 1: val_loss did not improve from 1.20770\n",
      "\u001b[1m40/40\u001b[0m \u001b[32m━━━━━━━━━━━━━━━━━━━━\u001b[0m\u001b[37m\u001b[0m \u001b[1m64s\u001b[0m 1s/step - accuracy: 0.9214 - loss: 0.2849 - val_accuracy: 0.8150 - val_loss: 1.2137 - learning_rate: 1.0000e-04\n",
      "\u001b[1m40/40\u001b[0m \u001b[32m━━━━━━━━━━━━━━━━━━━━\u001b[0m\u001b[37m\u001b[0m \u001b[1m0s\u001b[0m 1s/step - accuracy: 0.9280 - loss: 0.3046\n",
      "Epoch 1: val_loss did not improve from 1.20770\n",
      "\u001b[1m40/40\u001b[0m \u001b[32m━━━━━━━━━━━━━━━━━━━━\u001b[0m\u001b[37m\u001b[0m \u001b[1m63s\u001b[0m 1s/step - accuracy: 0.9281 - loss: 0.3041 - val_accuracy: 0.7775 - val_loss: 1.3446 - learning_rate: 1.0000e-04\n",
      "\u001b[1m40/40\u001b[0m \u001b[32m━━━━━━━━━━━━━━━━━━━━\u001b[0m\u001b[37m\u001b[0m \u001b[1m0s\u001b[0m 1s/step - accuracy: 0.9340 - loss: 0.2962\n",
      "Epoch 1: val_loss did not improve from 1.20770\n",
      "\u001b[1m40/40\u001b[0m \u001b[32m━━━━━━━━━━━━━━━━━━━━\u001b[0m\u001b[37m\u001b[0m \u001b[1m63s\u001b[0m 1s/step - accuracy: 0.9340 - loss: 0.2952 - val_accuracy: 0.7975 - val_loss: 1.2285 - learning_rate: 1.0000e-04\n",
      "\u001b[1m40/40\u001b[0m \u001b[32m━━━━━━━━━━━━━━━━━━━━\u001b[0m\u001b[37m\u001b[0m \u001b[1m0s\u001b[0m 1s/step - accuracy: 0.9438 - loss: 0.2508\n",
      "Epoch 1: val_loss did not improve from 1.20770\n",
      "\u001b[1m40/40\u001b[0m \u001b[32m━━━━━━━━━━━━━━━━━━━━\u001b[0m\u001b[37m\u001b[0m \u001b[1m63s\u001b[0m 1s/step - accuracy: 0.9437 - loss: 0.2508 - val_accuracy: 0.7825 - val_loss: 1.3539 - learning_rate: 1.0000e-04\n",
      "\u001b[1m40/40\u001b[0m \u001b[32m━━━━━━━━━━━━━━━━━━━━\u001b[0m\u001b[37m\u001b[0m \u001b[1m0s\u001b[0m 1s/step - accuracy: 0.9264 - loss: 0.2547\n",
      "Epoch 1: val_loss did not improve from 1.20770\n",
      "\u001b[1m40/40\u001b[0m \u001b[32m━━━━━━━━━━━━━━━━━━━━\u001b[0m\u001b[37m\u001b[0m \u001b[1m64s\u001b[0m 1s/step - accuracy: 0.9265 - loss: 0.2544 - val_accuracy: 0.7750 - val_loss: 1.6431 - learning_rate: 1.0000e-04\n",
      "\u001b[1m40/40\u001b[0m \u001b[32m━━━━━━━━━━━━━━━━━━━━\u001b[0m\u001b[37m\u001b[0m \u001b[1m0s\u001b[0m 1s/step - accuracy: 0.9421 - loss: 0.2558\n",
      "Epoch 1: val_loss did not improve from 1.20770\n",
      "\u001b[1m40/40\u001b[0m \u001b[32m━━━━━━━━━━━━━━━━━━━━\u001b[0m\u001b[37m\u001b[0m \u001b[1m64s\u001b[0m 1s/step - accuracy: 0.9420 - loss: 0.2562 - val_accuracy: 0.7925 - val_loss: 1.4010 - learning_rate: 1.0000e-04\n",
      "\u001b[1m40/40\u001b[0m \u001b[32m━━━━━━━━━━━━━━━━━━━━\u001b[0m\u001b[37m\u001b[0m \u001b[1m0s\u001b[0m 1s/step - accuracy: 0.9439 - loss: 0.2518\n",
      "Epoch 1: val_loss did not improve from 1.20770\n",
      "\u001b[1m40/40\u001b[0m \u001b[32m━━━━━━━━━━━━━━━━━━━━\u001b[0m\u001b[37m\u001b[0m \u001b[1m64s\u001b[0m 1s/step - accuracy: 0.9438 - loss: 0.2518 - val_accuracy: 0.8075 - val_loss: 1.2845 - learning_rate: 1.0000e-04\n",
      "\u001b[1m40/40\u001b[0m \u001b[32m━━━━━━━━━━━━━━━━━━━━\u001b[0m\u001b[37m\u001b[0m \u001b[1m0s\u001b[0m 1s/step - accuracy: 0.9412 - loss: 0.2249\n",
      "Epoch 1: val_loss did not improve from 1.20770\n",
      "\u001b[1m40/40\u001b[0m \u001b[32m━━━━━━━━━━━━━━━━━━━━\u001b[0m\u001b[37m\u001b[0m \u001b[1m64s\u001b[0m 1s/step - accuracy: 0.9413 - loss: 0.2252 - val_accuracy: 0.8100 - val_loss: 1.3138 - learning_rate: 1.0000e-04\n",
      "\u001b[1m40/40\u001b[0m \u001b[32m━━━━━━━━━━━━━━━━━━━━\u001b[0m\u001b[37m\u001b[0m \u001b[1m0s\u001b[0m 1s/step - accuracy: 0.9323 - loss: 0.3006\n",
      "Epoch 1: val_loss did not improve from 1.20770\n",
      "\u001b[1m40/40\u001b[0m \u001b[32m━━━━━━━━━━━━━━━━━━━━\u001b[0m\u001b[37m\u001b[0m \u001b[1m63s\u001b[0m 1s/step - accuracy: 0.9325 - loss: 0.2998 - val_accuracy: 0.8000 - val_loss: 1.4319 - learning_rate: 1.0000e-04\n"
     ]
    }
   ],
   "source": [
    "# Load the best model from the previous session\n",
    "model = load_model('model7-01-1.04.keras')  # Use the actual path of the best model\n",
    "\n",
    "# Prepare for the next training session\n",
    "checkpoint_path = 'model8-{epoch:02d}-{val_loss:.2f}.keras'\n",
    "checkpoint = ModelCheckpoint(checkpoint_path, monitor='val_loss', verbose=1, save_best_only=True, mode='auto')\n",
    "\n",
    "for epoch in range(1, 11):  # Assuming 10 epochs\n",
    "    try:\n",
    "        history8 = model.fit(\n",
    "            train_generator,\n",
    "            steps_per_epoch=len(train_generator),\n",
    "            epochs=1,  # Run one epoch at a time\n",
    "            validation_data=test_generator,\n",
    "            validation_steps=len(test_generator),\n",
    "            callbacks=[checkpoint, reduce_lr]\n",
    "        )\n",
    "    except tf.errors.OutOfRangeError:\n",
    "        print(f\"OutOfRangeError caught during epoch {epoch}, restarting epoch.\")\n",
    "        continue"
   ]
  },
  {
   "cell_type": "markdown",
   "metadata": {
    "id": "OxI64zLgic24"
   },
   "source": [
    "# **Loss and Accuracy Curves**\n",
    "\n",
    "Plot the training curves for accuracy and loss, called for each training history."
   ]
  },
  {
   "cell_type": "code",
   "execution_count": 29,
   "metadata": {},
   "outputs": [
    {
     "data": {
      "image/png": "[encoded data removed]",
      "text/plain": [
       "<Figure size 1200x600 with 1 Axes>"
      ]
     },
     "metadata": {},
     "output_type": "display_data"
    }
   ],
   "source": [
    "# Assuming history1, history2, etc., contain the training history for each model\n",
    "accuracies = [\n",
    "    max(history1.history['val_accuracy']),\n",
    "    max(history2.history['val_accuracy']),\n",
    "    max(history3.history['val_accuracy']),\n",
    "    max(history4.history['val_accuracy']),\n",
    "    max(history5.history['val_accuracy']),\n",
    "    max(history6.history['val_accuracy']),\n",
    "    max(history7.history['val_accuracy']),\n",
    "    max(history8.history['val_accuracy'])\n",
    "]\n",
    "\n",
    "model_labels = ['Model 1', 'Model 2', 'Model 3', 'Model 4', 'Model 5', 'Model 6', 'Model 7', 'Model 8']\n",
    "\n",
    "# Create a line plot\n",
    "plt.figure(figsize=(12, 6))\n",
    "plt.plot(model_labels, accuracies, marker='o', linestyle='-', color='b')\n",
    "plt.xlabel('Model')\n",
    "plt.ylabel('Max Validation Accuracy')\n",
    "plt.title('Validation Accuracy Across Different Models')\n",
    "plt.grid(True)\n",
    "plt.xticks(rotation=45)  # Rotate model labels for better readability\n",
    "plt.tight_layout()  # Adjust layout to make room for the rotated x-axis labels\n",
    "plt.show()"
   ]
  },
  {
   "cell_type": "code",
   "execution_count": 30,
   "metadata": {},
   "outputs": [
    {
     "data": {
      "image/png": "[encoded data removed]",
      "text/plain": [
       "<Figure size 1200x600 with 1 Axes>"
      ]
     },
     "metadata": {},
     "output_type": "display_data"
    }
   ],
   "source": [
    "# Assuming history1, history2, etc., contain the training history for each model\n",
    "loss = [\n",
    "    max(history1.history['val_loss']),\n",
    "    max(history2.history['val_loss']),\n",
    "    max(history3.history['val_loss']),\n",
    "    max(history4.history['val_loss']),\n",
    "    max(history5.history['val_loss']),\n",
    "    max(history6.history['val_loss']),\n",
    "    max(history7.history['val_loss']),\n",
    "    max(history8.history['val_loss'])\n",
    "]\n",
    "\n",
    "model_labels = ['Model 1', 'Model 2', 'Model 3', 'Model 4', 'Model 5', 'Model 6', 'Model 7', 'Model 8']\n",
    "\n",
    "# Create a line plot\n",
    "plt.figure(figsize=(12, 6))\n",
    "plt.plot(model_labels, loss, marker='o', linestyle='-', color='b')\n",
    "plt.xlabel('Model')\n",
    "plt.ylabel('Validation Loss')\n",
    "plt.title('Validation Loss Across Different Models')\n",
    "plt.grid(True)\n",
    "plt.xticks(rotation=45)  # Rotate model labels for better readability\n",
    "plt.tight_layout()  # Adjust layout to make room for the rotated x-axis labels\n",
    "plt.show()"
   ]
  },
  {
   "cell_type": "markdown",
   "metadata": {
    "id": "J8L9RqA-irjo"
   },
   "source": [
    "# **Accuracy**\n",
    "\n",
    "Evaluate the trained model's performance on the **test** and **train** datasets and print out the loss and accuracy."
   ]
  },
  {
   "cell_type": "code",
   "execution_count": 47,
   "metadata": {
    "colab": {
     "base_uri": "https://localhost:8080/"
    },
    "id": "zdOgkY33itYL",
    "outputId": "5b15ee8c-9082-4366-cb03-3cf1ef9ee6a2"
   },
   "outputs": [
    {
     "name": "stdout",
     "output_type": "stream",
     "text": [
      "\u001b[1m7/7\u001b[0m \u001b[32m━━━━━━━━━━━━━━━━━━━━\u001b[0m\u001b[37m\u001b[0m \u001b[1m8s\u001b[0m 1s/step - accuracy: 0.7831 - loss: 1.2007\n",
      "Test Accuracy: 80.25%\n",
      "Test Loss: 1.1777077913284302\n"
     ]
    }
   ],
   "source": [
    "# Evaluate on test data\n",
    "\n",
    "model = load_model('model5-01-1.06.keras')\n",
    "\n",
    "test_score = model.evaluate(test_generator, steps=len(test_generator))\n",
    "print(\"Test Accuracy: {:.2f}%\".format(test_score[1] * 100))\n",
    "print(\"Test Loss:\", test_score[0])"
   ]
  },
  {
   "cell_type": "code",
   "execution_count": 48,
   "metadata": {
    "colab": {
     "base_uri": "https://localhost:8080/"
    },
    "id": "I4zAG3C8ivAy",
    "outputId": "b9372963-5f4a-4a3f-e8f4-28b5619fdd75"
   },
   "outputs": [
    {
     "name": "stdout",
     "output_type": "stream",
     "text": [
      "\u001b[1m40/40\u001b[0m \u001b[32m━━━━━━━━━━━━━━━━━━━━\u001b[0m\u001b[37m\u001b[0m \u001b[1m45s\u001b[0m 1s/step - accuracy: 0.9591 - loss: 0.1559\n",
      "Train Accuracy: 95.70%\n",
      "Train Loss: 0.15553845465183258\n"
     ]
    }
   ],
   "source": [
    "# Evaluate on training data\n",
    "\n",
    "train_score = model.evaluate(train_generator, steps=len(train_generator))\n",
    "print(\"Train Accuracy: {:.2f}%\".format(train_score[1] * 100))\n",
    "print(\"Train Loss:\", train_score[0])"
   ]
  },
  {
   "cell_type": "markdown",
   "metadata": {
    "id": "y0yUNZXSizq3"
   },
   "source": [
    "# **Cleaning Up and Saving the Model**\n",
    "\n",
    "Remove any existing saved models in the directory, create a new directroy, and save the trained model there.\n",
    "\n",
    "\"Refer the [docs](https://www.tensorflow.org/guide/keras/save_and_serialize) from the Tensorflow.\""
   ]
  },
  {
   "cell_type": "code",
   "execution_count": null,
   "metadata": {
    "colab": {
     "base_uri": "https://localhost:8080/"
    },
    "id": "0yz2cR_Pi4XQ",
    "outputId": "24110ead-a328-4eed-95cb-ad5b6cc36d92"
   },
   "outputs": [],
   "source": [
    "# Path to the model directory\n",
    "model_dir = '/Users/connor/Desktop/W24/583 Deep Learning/Course Project MacOS/Car_Brand_Logos/content/model'\n",
    "\n",
    "# Remove the directory if it exists\n",
    "if os.path.exists(model_dir):\n",
    "    shutil.rmtree(model_dir)\n",
    "\n",
    "# Create the directory\n",
    "os.makedirs(model_dir, exist_ok=True)\n",
    "\n",
    "# Save the model\n",
    "model_path = os.path.join(model_dir, 'saved_model.keras')\n",
    "model.save(model_path)\n",
    "print(f\"Model saved to {model_path}\")"
   ]
  },
  {
   "cell_type": "markdown",
   "metadata": {
    "id": "kG7JDblgjBO7"
   },
   "source": [
    "# **Reconstruct the model and check the predicted accuracy**\n",
    "\n",
    "Load and reconstruct the saved model, make predictions and display Accuracy and Loss for the **test** and **train** datasets. Reduced batch sizing for better runtime."
   ]
  },
  {
   "cell_type": "code",
   "execution_count": null,
   "metadata": {
    "colab": {
     "base_uri": "https://localhost:8080/"
    },
    "id": "QkQFdQkkjCnG",
    "outputId": "514d133d-b489-4811-f01b-f1a2bf13835a"
   },
   "outputs": [],
   "source": [
    "# Construct the full path to the model file\n",
    "model_dir = '/Users/connor/Desktop/W24/583 Deep Learning/Course Project MacOS/Car_Brand_Logos/content/model'\n",
    "desired_model = \"saved_model.keras\"\n",
    "model_path = os.path.join(model_dir, desired_model)\n",
    "\n",
    "# Load the saved model\n",
    "reconstructed_model = load_model(model_path)\n",
    "print(f\"Model loaded from {model_path}\")\n",
    "\n",
    "# Evaluate on test data\n",
    "test_score = reconstructed_model.evaluate(test_generator, steps=len(test_generator))\n",
    "print(\"Test Accuracy: {:.2f}%\".format(test_score[1] * 100))\n",
    "print(\"Test Loss:\", test_score[0])\n",
    "\n",
    "# Evaluate on training data\n",
    "train_score = reconstructed_model.evaluate(train_generator, steps=len(train_generator))\n",
    "print(\"Train Accuracy: {:.2f}%\".format(train_score[1] * 100))\n",
    "print(\"Train Loss:\", train_score[0])"
   ]
  },
  {
   "cell_type": "markdown",
   "metadata": {
    "id": "7I573QJX1MO5"
   },
   "source": [
    "# **Label Identification**\n",
    "\n",
    "Obeserve the available classifications. Should be 8 different manufacturers."
   ]
  },
  {
   "cell_type": "code",
   "execution_count": 35,
   "metadata": {
    "id": "RACvnhiz1i_Q"
   },
   "outputs": [
    {
     "data": {
      "text/plain": [
       "{0: 'hyundai',\n",
       " 1: 'lexus',\n",
       " 2: 'mazda',\n",
       " 3: 'mercedes',\n",
       " 4: 'opel',\n",
       " 5: 'skoda',\n",
       " 6: 'toyota',\n",
       " 7: 'volkswagen'}"
      ]
     },
     "execution_count": 35,
     "metadata": {},
     "output_type": "execute_result"
    }
   ],
   "source": [
    "class_names=train_generator.class_indices\n",
    "\n",
    "labels={}\n",
    "for key, value in class_names.items():\n",
    "    labels[value]=key\n",
    "\n",
    "labels"
   ]
  },
  {
   "cell_type": "markdown",
   "metadata": {
    "id": "xrmAFtcP9B43"
   },
   "source": [
    "# **Prediction for Sample Images— Classification**\n",
    "\n",
    "Supplement with images that are focused on the logo, if possible. Displays the image (removed due to crashes), and gets result for the supplied image through \".predict\". Resizing occurs to provided image. \n",
    "- (display_image) was removed due to recurring problems with Python3 becoming unresponsive. Unable to navigate a timely solution, image is available through the explorer. \n"
   ]
  },
  {
   "cell_type": "code",
   "execution_count": 40,
   "metadata": {
    "id": "w2WXi7yk804b"
   },
   "outputs": [],
   "source": [
    "import cv2\n",
    "import numpy as np\n",
    "import tensorflow as tf\n",
    "\n",
    "sample_model = load_model('model5-01-1.06.keras')\n",
    "\n",
    "def display_image(image):\n",
    "    cv2.imshow('Image', image)\n",
    "    cv2.waitKey(5000)\n",
    "    cv2.destroyAllWindows()\n",
    "\n",
    "def GetResultForImage(image_location):\n",
    "    img = cv2.imread(image_location, cv2.IMREAD_UNCHANGED)\n",
    "    \n",
    "    print('Original Dimensions:', img.shape)\n",
    "    \n",
    "    resized = cv2.resize(img, (IMAGE_SIZE, IMAGE_SIZE))\n",
    "    result = np.expand_dims(resized, axis=0)\n",
    "    result = sample_model.predict(result)\n",
    "    print(labels[np.argmax(result)])\n",
    "    \n",
    "    # Display the resized image using OpenCV\n",
    "    #display_image(resized)"
   ]
  },
  {
   "cell_type": "markdown",
   "metadata": {},
   "source": [
    "**Displays results for predictions**— formatting \"GetResultForImage(\"image_name.jpg\")\""
   ]
  },
  {
   "cell_type": "code",
   "execution_count": 42,
   "metadata": {},
   "outputs": [
    {
     "name": "stdout",
     "output_type": "stream",
     "text": [
      "Original Dimensions: (300, 670, 3)\n",
      "\u001b[1m1/1\u001b[0m \u001b[32m━━━━━━━━━━━━━━━━━━━━\u001b[0m\u001b[37m\u001b[0m \u001b[1m0s\u001b[0m 16ms/step\n",
      "skoda\n",
      "Original Dimensions: (1000, 1500, 3)\n",
      "\u001b[1m1/1\u001b[0m \u001b[32m━━━━━━━━━━━━━━━━━━━━\u001b[0m\u001b[37m\u001b[0m \u001b[1m0s\u001b[0m 9ms/step\n",
      "toyota\n",
      "Original Dimensions: (183, 275, 3)\n",
      "\u001b[1m1/1\u001b[0m \u001b[32m━━━━━━━━━━━━━━━━━━━━\u001b[0m\u001b[37m\u001b[0m \u001b[1m0s\u001b[0m 9ms/step\n",
      "volkswagen\n",
      "Original Dimensions: (206, 244, 3)\n",
      "\u001b[1m1/1\u001b[0m \u001b[32m━━━━━━━━━━━━━━━━━━━━\u001b[0m\u001b[37m\u001b[0m \u001b[1m0s\u001b[0m 9ms/step\n",
      "lexus\n",
      "Original Dimensions: (960, 1440, 3)\n",
      "\u001b[1m1/1\u001b[0m \u001b[32m━━━━━━━━━━━━━━━━━━━━\u001b[0m\u001b[37m\u001b[0m \u001b[1m0s\u001b[0m 10ms/step\n",
      "mazda\n",
      "Original Dimensions: (410, 731, 3)\n",
      "\u001b[1m1/1\u001b[0m \u001b[32m━━━━━━━━━━━━━━━━━━━━\u001b[0m\u001b[37m\u001b[0m \u001b[1m0s\u001b[0m 9ms/step\n",
      "mercedes\n",
      "Original Dimensions: (191, 170, 3)\n",
      "\u001b[1m1/1\u001b[0m \u001b[32m━━━━━━━━━━━━━━━━━━━━\u001b[0m\u001b[37m\u001b[0m \u001b[1m0s\u001b[0m 10ms/step\n",
      "opel\n",
      "Original Dimensions: (896, 1600, 3)\n",
      "\u001b[1m1/1\u001b[0m \u001b[32m━━━━━━━━━━━━━━━━━━━━\u001b[0m\u001b[37m\u001b[0m \u001b[1m0s\u001b[0m 10ms/step\n",
      "hyundai\n"
     ]
    }
   ],
   "source": [
    "GetResultForImage(\"/Users/connor/Desktop/W24/583 Deep Learning/Course Project MacOS/Demonstration Images/skoda.jpg\")\n",
    "GetResultForImage(\"/Users/connor/Desktop/W24/583 Deep Learning/Course Project MacOS/Demonstration Images/toyota.jpg\")\n",
    "GetResultForImage(\"/Users/connor/Desktop/W24/583 Deep Learning/Course Project MacOS/Demonstration Images/volkswagen.jpg\")\n",
    "GetResultForImage(\"/Users/connor/Desktop/W24/583 Deep Learning/Course Project MacOS/Demonstration Images/lexus.jpg\")\n",
    "GetResultForImage(\"/Users/connor/Desktop/W24/583 Deep Learning/Course Project MacOS/Demonstration Images/mazda.jpg\")\n",
    "GetResultForImage(\"/Users/connor/Desktop/W24/583 Deep Learning/Course Project MacOS/Demonstration Images/mercedes.jpg\")\n",
    "GetResultForImage(\"/Users/connor/Desktop/W24/583 Deep Learning/Course Project MacOS/Demonstration Images/opel.jpg\")\n",
    "GetResultForImage(\"/Users/connor/Desktop/W24/583 Deep Learning/Course Project MacOS/Demonstration Images/hyundai.jpg\")"
   ]
  }
 ],
 "metadata": {
  "accelerator": "GPU",
  "colab": {
   "provenance": []
  },
  "gpuClass": "standard",
  "kernelspec": {
   "display_name": "base",
   "language": "python",
   "name": "python3"
  },
  "language_info": {
   "codemirror_mode": {
    "name": "ipython",
    "version": 3
   },
   "file_extension": ".py",
   "mimetype": "text/x-python",
   "name": "python",
   "nbconvert_exporter": "python",
   "pygments_lexer": "ipython3",
   "version": "3.11.9"
  }
 },
 "nbformat": 4,
 "nbformat_minor": 4
}
